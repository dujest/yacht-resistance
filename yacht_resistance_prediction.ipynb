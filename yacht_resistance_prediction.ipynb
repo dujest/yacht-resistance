{
 "cells": [
  {
   "cell_type": "markdown",
   "metadata": {},
   "source": [
    "# 1. SETUP"
   ]
  },
  {
   "cell_type": "code",
   "execution_count": 1,
   "metadata": {},
   "outputs": [
    {
     "name": "stdout",
     "output_type": "stream",
     "text": [
      "Python version: sys.version_info(major=3, minor=8, micro=13, releaselevel='final', serial=0)\n",
      "scikit-learn version: 1.0.2\n"
     ]
    }
   ],
   "source": [
    "import sys\n",
    "print(\"Python version:\", sys.version_info)\n",
    "\n",
    "import sklearn\n",
    "print(\"scikit-learn version:\", sklearn.__version__)"
   ]
  },
  {
   "cell_type": "code",
   "execution_count": 2,
   "metadata": {},
   "outputs": [],
   "source": [
    "import numpy as np\n",
    "import os"
   ]
  },
  {
   "cell_type": "markdown",
   "metadata": {},
   "source": [
    "### 1.1 Figures setup"
   ]
  },
  {
   "cell_type": "code",
   "execution_count": 3,
   "metadata": {},
   "outputs": [],
   "source": [
    "%matplotlib inline\n",
    "import matplotlib as mpl\n",
    "import matplotlib.pyplot as plt\n",
    "mpl.rc(\"axes\", labelsize=14)\n",
    "mpl.rc(\"xtick\", labelsize=12)\n",
    "mpl.rc(\"ytick\", labelsize=12)"
   ]
  },
  {
   "cell_type": "markdown",
   "metadata": {},
   "source": [
    "### 1.2 Figures dir"
   ]
  },
  {
   "cell_type": "code",
   "execution_count": 4,
   "metadata": {},
   "outputs": [],
   "source": [
    "PROJECT_ROOT_DIR = \".\"\n",
    "PROJECT_NAME = \"yacht_hydrodnamics\"\n",
    "IMAGES_PATH = os.path.join(PROJECT_ROOT_DIR, \"images\", PROJECT_NAME)\n",
    "os.makedirs(IMAGES_PATH, exist_ok=True)"
   ]
  },
  {
   "cell_type": "code",
   "execution_count": 5,
   "metadata": {},
   "outputs": [],
   "source": [
    "def save_fig(fig_id, tigh_layout=True, fig_extension=\"png\", resolution=300):\n",
    "    path = os.path.join(IMAGES_PATH, fig_id + \".\" + fig_extension)\n",
    "    print(\"Saving figure\", fig_id)\n",
    "    if tigh_layout:\n",
    "        plt.tight_layout()\n",
    "        plt.savefig(path, format=fig_extension, dpi=resolution)"
   ]
  },
  {
   "cell_type": "markdown",
   "metadata": {},
   "source": [
    "# 2. GET THE DATA"
   ]
  },
  {
   "cell_type": "markdown",
   "metadata": {},
   "source": [
    "### 2.1 Download the data"
   ]
  },
  {
   "cell_type": "code",
   "execution_count": 6,
   "metadata": {},
   "outputs": [],
   "source": [
    "import urllib.request"
   ]
  },
  {
   "cell_type": "code",
   "execution_count": 7,
   "metadata": {},
   "outputs": [],
   "source": [
    "DOWNLOAD_ROOT = \"http://archive.ics.uci.edu/ml/machine-learning-databases/00243/\"\n",
    "YACHT_URL = DOWNLOAD_ROOT + \"yacht_hydrodynamics.data\"\n",
    "YACHT_PATH = os.path.join(\"datasets\", \"yacht\")"
   ]
  },
  {
   "cell_type": "code",
   "execution_count": 8,
   "metadata": {},
   "outputs": [],
   "source": [
    "def fetch_yacht_data(yacht_url=YACHT_URL, yacht_path=YACHT_PATH):\n",
    "    if not os.path.isdir(yacht_path):\n",
    "        os.makedirs(yacht_path)\n",
    "    data_path = os.path.join(yacht_path, \"yacht_hydrodynamics.data\")\n",
    "    urllib.request.urlretrieve(yacht_url, data_path)\n",
    "\n",
    "fetch_yacht_data()"
   ]
  },
  {
   "cell_type": "code",
   "execution_count": 9,
   "metadata": {},
   "outputs": [],
   "source": [
    "import pandas as pd\n",
    "\n",
    "def load_yacht_data(yacht_path=YACHT_PATH):\n",
    "    data_path = os.path.join(yacht_path, \"yacht_hydrodynamics.data\")\n",
    "    return pd.read_table(data_path, sep='\\s+', names=[\"L_bc\", \"Cp\", \"L_D_ratio\", \"B_T_ratio\", \"L_B_ratio\", \"Fn\", \"R_rs\"])"
   ]
  },
  {
   "cell_type": "code",
   "execution_count": 10,
   "metadata": {},
   "outputs": [
    {
     "data": {
      "text/html": [
       "<div>\n",
       "<style scoped>\n",
       "    .dataframe tbody tr th:only-of-type {\n",
       "        vertical-align: middle;\n",
       "    }\n",
       "\n",
       "    .dataframe tbody tr th {\n",
       "        vertical-align: top;\n",
       "    }\n",
       "\n",
       "    .dataframe thead th {\n",
       "        text-align: right;\n",
       "    }\n",
       "</style>\n",
       "<table border=\"1\" class=\"dataframe\">\n",
       "  <thead>\n",
       "    <tr style=\"text-align: right;\">\n",
       "      <th></th>\n",
       "      <th>L_bc</th>\n",
       "      <th>Cp</th>\n",
       "      <th>L_D_ratio</th>\n",
       "      <th>B_T_ratio</th>\n",
       "      <th>L_B_ratio</th>\n",
       "      <th>Fn</th>\n",
       "      <th>R_rs</th>\n",
       "    </tr>\n",
       "  </thead>\n",
       "  <tbody>\n",
       "    <tr>\n",
       "      <th>0</th>\n",
       "      <td>-2.3</td>\n",
       "      <td>0.568</td>\n",
       "      <td>4.78</td>\n",
       "      <td>3.99</td>\n",
       "      <td>3.17</td>\n",
       "      <td>0.125</td>\n",
       "      <td>0.11</td>\n",
       "    </tr>\n",
       "    <tr>\n",
       "      <th>1</th>\n",
       "      <td>-2.3</td>\n",
       "      <td>0.568</td>\n",
       "      <td>4.78</td>\n",
       "      <td>3.99</td>\n",
       "      <td>3.17</td>\n",
       "      <td>0.150</td>\n",
       "      <td>0.27</td>\n",
       "    </tr>\n",
       "    <tr>\n",
       "      <th>2</th>\n",
       "      <td>-2.3</td>\n",
       "      <td>0.568</td>\n",
       "      <td>4.78</td>\n",
       "      <td>3.99</td>\n",
       "      <td>3.17</td>\n",
       "      <td>0.175</td>\n",
       "      <td>0.47</td>\n",
       "    </tr>\n",
       "    <tr>\n",
       "      <th>3</th>\n",
       "      <td>-2.3</td>\n",
       "      <td>0.568</td>\n",
       "      <td>4.78</td>\n",
       "      <td>3.99</td>\n",
       "      <td>3.17</td>\n",
       "      <td>0.200</td>\n",
       "      <td>0.78</td>\n",
       "    </tr>\n",
       "    <tr>\n",
       "      <th>4</th>\n",
       "      <td>-2.3</td>\n",
       "      <td>0.568</td>\n",
       "      <td>4.78</td>\n",
       "      <td>3.99</td>\n",
       "      <td>3.17</td>\n",
       "      <td>0.225</td>\n",
       "      <td>1.18</td>\n",
       "    </tr>\n",
       "  </tbody>\n",
       "</table>\n",
       "</div>"
      ],
      "text/plain": [
       "   L_bc     Cp  L_D_ratio  B_T_ratio  L_B_ratio     Fn  R_rs\n",
       "0  -2.3  0.568       4.78       3.99       3.17  0.125  0.11\n",
       "1  -2.3  0.568       4.78       3.99       3.17  0.150  0.27\n",
       "2  -2.3  0.568       4.78       3.99       3.17  0.175  0.47\n",
       "3  -2.3  0.568       4.78       3.99       3.17  0.200  0.78\n",
       "4  -2.3  0.568       4.78       3.99       3.17  0.225  1.18"
      ]
     },
     "execution_count": 10,
     "metadata": {},
     "output_type": "execute_result"
    }
   ],
   "source": [
    "yacht = load_yacht_data()\n",
    "yacht.head()"
   ]
  },
  {
   "cell_type": "code",
   "execution_count": 11,
   "metadata": {},
   "outputs": [
    {
     "name": "stdout",
     "output_type": "stream",
     "text": [
      "<class 'pandas.core.frame.DataFrame'>\n",
      "RangeIndex: 308 entries, 0 to 307\n",
      "Data columns (total 7 columns):\n",
      " #   Column     Non-Null Count  Dtype  \n",
      "---  ------     --------------  -----  \n",
      " 0   L_bc       308 non-null    float64\n",
      " 1   Cp         308 non-null    float64\n",
      " 2   L_D_ratio  308 non-null    float64\n",
      " 3   B_T_ratio  308 non-null    float64\n",
      " 4   L_B_ratio  308 non-null    float64\n",
      " 5   Fn         308 non-null    float64\n",
      " 6   R_rs       308 non-null    float64\n",
      "dtypes: float64(7)\n",
      "memory usage: 17.0 KB\n"
     ]
    }
   ],
   "source": [
    "yacht.info()"
   ]
  },
  {
   "cell_type": "code",
   "execution_count": 12,
   "metadata": {},
   "outputs": [
    {
     "data": {
      "text/html": [
       "<div>\n",
       "<style scoped>\n",
       "    .dataframe tbody tr th:only-of-type {\n",
       "        vertical-align: middle;\n",
       "    }\n",
       "\n",
       "    .dataframe tbody tr th {\n",
       "        vertical-align: top;\n",
       "    }\n",
       "\n",
       "    .dataframe thead th {\n",
       "        text-align: right;\n",
       "    }\n",
       "</style>\n",
       "<table border=\"1\" class=\"dataframe\">\n",
       "  <thead>\n",
       "    <tr style=\"text-align: right;\">\n",
       "      <th></th>\n",
       "      <th>L_bc</th>\n",
       "      <th>Cp</th>\n",
       "      <th>L_D_ratio</th>\n",
       "      <th>B_T_ratio</th>\n",
       "      <th>L_B_ratio</th>\n",
       "      <th>Fn</th>\n",
       "      <th>R_rs</th>\n",
       "    </tr>\n",
       "  </thead>\n",
       "  <tbody>\n",
       "  </tbody>\n",
       "</table>\n",
       "</div>"
      ],
      "text/plain": [
       "Empty DataFrame\n",
       "Columns: [L_bc, Cp, L_D_ratio, B_T_ratio, L_B_ratio, Fn, R_rs]\n",
       "Index: []"
      ]
     },
     "execution_count": 12,
     "metadata": {},
     "output_type": "execute_result"
    }
   ],
   "source": [
    "sample_incomplete_rows = yacht[yacht.isnull().any(axis=1)].head()\n",
    "sample_incomplete_rows"
   ]
  },
  {
   "cell_type": "code",
   "execution_count": 13,
   "metadata": {},
   "outputs": [
    {
     "data": {
      "text/plain": [
       "-2.3    140\n",
       " 0.0     56\n",
       "-5.0     56\n",
       "-2.4     42\n",
       "-2.2     14\n",
       "Name: L_bc, dtype: int64"
      ]
     },
     "execution_count": 13,
     "metadata": {},
     "output_type": "execute_result"
    }
   ],
   "source": [
    "yacht[\"L_bc\"].value_counts()"
   ]
  },
  {
   "cell_type": "code",
   "execution_count": 14,
   "metadata": {},
   "outputs": [
    {
     "data": {
      "text/plain": [
       "0.565    70\n",
       "0.530    70\n",
       "0.600    56\n",
       "0.568    28\n",
       "0.569    14\n",
       "0.564    14\n",
       "0.574    14\n",
       "0.562    14\n",
       "0.585    14\n",
       "0.546    14\n",
       "Name: Cp, dtype: int64"
      ]
     },
     "execution_count": 14,
     "metadata": {},
     "output_type": "execute_result"
    }
   ],
   "source": [
    "yacht[\"Cp\"].value_counts()"
   ]
  },
  {
   "cell_type": "code",
   "execution_count": 15,
   "metadata": {},
   "outputs": [
    {
     "data": {
      "text/plain": [
       "4.78    126\n",
       "5.10     56\n",
       "4.34     42\n",
       "4.77     28\n",
       "4.36     14\n",
       "5.14     14\n",
       "5.11     14\n",
       "4.76     14\n",
       "Name: L_D_ratio, dtype: int64"
      ]
     },
     "execution_count": 15,
     "metadata": {},
     "output_type": "execute_result"
    }
   ],
   "source": [
    "yacht[\"L_D_ratio\"].value_counts()"
   ]
  },
  {
   "cell_type": "code",
   "execution_count": 16,
   "metadata": {},
   "outputs": [
    {
     "data": {
      "text/plain": [
       "3.99    42\n",
       "3.94    28\n",
       "3.75    28\n",
       "4.24    28\n",
       "4.17    14\n",
       "2.81    14\n",
       "3.68    14\n",
       "3.69    14\n",
       "4.13    14\n",
       "3.04    14\n",
       "3.84    14\n",
       "4.95    14\n",
       "2.98    14\n",
       "3.96    14\n",
       "3.95    14\n",
       "5.35    14\n",
       "4.23    14\n",
       "Name: B_T_ratio, dtype: int64"
      ]
     },
     "execution_count": 16,
     "metadata": {},
     "output_type": "execute_result"
    }
   ],
   "source": [
    "yacht[\"B_T_ratio\"].value_counts()"
   ]
  },
  {
   "cell_type": "code",
   "execution_count": 17,
   "metadata": {},
   "outputs": [
    {
     "data": {
      "text/plain": [
       "3.15    112\n",
       "3.51     56\n",
       "3.17     28\n",
       "2.76     28\n",
       "3.64     14\n",
       "3.53     14\n",
       "3.32     14\n",
       "3.07     14\n",
       "3.16     14\n",
       "2.73     14\n",
       "Name: L_B_ratio, dtype: int64"
      ]
     },
     "execution_count": 17,
     "metadata": {},
     "output_type": "execute_result"
    }
   ],
   "source": [
    "yacht[\"L_B_ratio\"].value_counts()"
   ]
  },
  {
   "cell_type": "code",
   "execution_count": 18,
   "metadata": {},
   "outputs": [
    {
     "data": {
      "text/plain": [
       "0.125    22\n",
       "0.150    22\n",
       "0.175    22\n",
       "0.200    22\n",
       "0.225    22\n",
       "0.250    22\n",
       "0.275    22\n",
       "0.300    22\n",
       "0.325    22\n",
       "0.350    22\n",
       "0.375    22\n",
       "0.400    22\n",
       "0.425    22\n",
       "0.450    22\n",
       "Name: Fn, dtype: int64"
      ]
     },
     "execution_count": 18,
     "metadata": {},
     "output_type": "execute_result"
    }
   ],
   "source": [
    "yacht[\"Fn\"].value_counts()"
   ]
  },
  {
   "cell_type": "code",
   "execution_count": 19,
   "metadata": {},
   "outputs": [
    {
     "data": {
      "text/html": [
       "<div>\n",
       "<style scoped>\n",
       "    .dataframe tbody tr th:only-of-type {\n",
       "        vertical-align: middle;\n",
       "    }\n",
       "\n",
       "    .dataframe tbody tr th {\n",
       "        vertical-align: top;\n",
       "    }\n",
       "\n",
       "    .dataframe thead th {\n",
       "        text-align: right;\n",
       "    }\n",
       "</style>\n",
       "<table border=\"1\" class=\"dataframe\">\n",
       "  <thead>\n",
       "    <tr style=\"text-align: right;\">\n",
       "      <th></th>\n",
       "      <th>L_bc</th>\n",
       "      <th>Cp</th>\n",
       "      <th>L_D_ratio</th>\n",
       "      <th>B_T_ratio</th>\n",
       "      <th>L_B_ratio</th>\n",
       "      <th>Fn</th>\n",
       "      <th>R_rs</th>\n",
       "    </tr>\n",
       "  </thead>\n",
       "  <tbody>\n",
       "    <tr>\n",
       "      <th>count</th>\n",
       "      <td>308.000000</td>\n",
       "      <td>308.000000</td>\n",
       "      <td>308.000000</td>\n",
       "      <td>308.000000</td>\n",
       "      <td>308.000000</td>\n",
       "      <td>308.000000</td>\n",
       "      <td>308.000000</td>\n",
       "    </tr>\n",
       "    <tr>\n",
       "      <th>mean</th>\n",
       "      <td>-2.381818</td>\n",
       "      <td>0.564136</td>\n",
       "      <td>4.788636</td>\n",
       "      <td>3.936818</td>\n",
       "      <td>3.206818</td>\n",
       "      <td>0.287500</td>\n",
       "      <td>10.495357</td>\n",
       "    </tr>\n",
       "    <tr>\n",
       "      <th>std</th>\n",
       "      <td>1.513219</td>\n",
       "      <td>0.023290</td>\n",
       "      <td>0.253057</td>\n",
       "      <td>0.548193</td>\n",
       "      <td>0.247998</td>\n",
       "      <td>0.100942</td>\n",
       "      <td>15.160490</td>\n",
       "    </tr>\n",
       "    <tr>\n",
       "      <th>min</th>\n",
       "      <td>-5.000000</td>\n",
       "      <td>0.530000</td>\n",
       "      <td>4.340000</td>\n",
       "      <td>2.810000</td>\n",
       "      <td>2.730000</td>\n",
       "      <td>0.125000</td>\n",
       "      <td>0.010000</td>\n",
       "    </tr>\n",
       "    <tr>\n",
       "      <th>25%</th>\n",
       "      <td>-2.400000</td>\n",
       "      <td>0.546000</td>\n",
       "      <td>4.770000</td>\n",
       "      <td>3.750000</td>\n",
       "      <td>3.150000</td>\n",
       "      <td>0.200000</td>\n",
       "      <td>0.777500</td>\n",
       "    </tr>\n",
       "    <tr>\n",
       "      <th>50%</th>\n",
       "      <td>-2.300000</td>\n",
       "      <td>0.565000</td>\n",
       "      <td>4.780000</td>\n",
       "      <td>3.955000</td>\n",
       "      <td>3.150000</td>\n",
       "      <td>0.287500</td>\n",
       "      <td>3.065000</td>\n",
       "    </tr>\n",
       "    <tr>\n",
       "      <th>75%</th>\n",
       "      <td>-2.300000</td>\n",
       "      <td>0.574000</td>\n",
       "      <td>5.100000</td>\n",
       "      <td>4.170000</td>\n",
       "      <td>3.510000</td>\n",
       "      <td>0.375000</td>\n",
       "      <td>12.815000</td>\n",
       "    </tr>\n",
       "    <tr>\n",
       "      <th>max</th>\n",
       "      <td>0.000000</td>\n",
       "      <td>0.600000</td>\n",
       "      <td>5.140000</td>\n",
       "      <td>5.350000</td>\n",
       "      <td>3.640000</td>\n",
       "      <td>0.450000</td>\n",
       "      <td>62.420000</td>\n",
       "    </tr>\n",
       "  </tbody>\n",
       "</table>\n",
       "</div>"
      ],
      "text/plain": [
       "             L_bc          Cp   L_D_ratio   B_T_ratio   L_B_ratio          Fn  \\\n",
       "count  308.000000  308.000000  308.000000  308.000000  308.000000  308.000000   \n",
       "mean    -2.381818    0.564136    4.788636    3.936818    3.206818    0.287500   \n",
       "std      1.513219    0.023290    0.253057    0.548193    0.247998    0.100942   \n",
       "min     -5.000000    0.530000    4.340000    2.810000    2.730000    0.125000   \n",
       "25%     -2.400000    0.546000    4.770000    3.750000    3.150000    0.200000   \n",
       "50%     -2.300000    0.565000    4.780000    3.955000    3.150000    0.287500   \n",
       "75%     -2.300000    0.574000    5.100000    4.170000    3.510000    0.375000   \n",
       "max      0.000000    0.600000    5.140000    5.350000    3.640000    0.450000   \n",
       "\n",
       "             R_rs  \n",
       "count  308.000000  \n",
       "mean    10.495357  \n",
       "std     15.160490  \n",
       "min      0.010000  \n",
       "25%      0.777500  \n",
       "50%      3.065000  \n",
       "75%     12.815000  \n",
       "max     62.420000  "
      ]
     },
     "execution_count": 19,
     "metadata": {},
     "output_type": "execute_result"
    }
   ],
   "source": [
    "yacht.describe()"
   ]
  },
  {
   "cell_type": "code",
   "execution_count": 20,
   "metadata": {},
   "outputs": [
    {
     "name": "stdout",
     "output_type": "stream",
     "text": [
      "Saving figure attribute_histogram_plots\n"
     ]
    },
    {
     "data": {
      "image/png": "[encoded data removed]",
      "text/plain": [
       "<Figure size 1440x1080 with 9 Axes>"
      ]
     },
     "metadata": {
      "needs_background": "light"
     },
     "output_type": "display_data"
    }
   ],
   "source": [
    "yacht.hist(bins=50, figsize=(20, 15))\n",
    "save_fig(\"attribute_histogram_plots\")"
   ]
  },
  {
   "cell_type": "markdown",
   "metadata": {},
   "source": [
    "# 3. DATA VISUALIZING"
   ]
  },
  {
   "cell_type": "code",
   "execution_count": 21,
   "metadata": {},
   "outputs": [
    {
     "data": {
      "text/plain": [
       "<AxesSubplot:xlabel='Fn', ylabel='R_rs'>"
      ]
     },
     "execution_count": 21,
     "metadata": {},
     "output_type": "execute_result"
    },
    {
     "data": {
      "image/png": "[encoded data removed]",
      "text/plain": [
       "<Figure size 432x288 with 1 Axes>"
      ]
     },
     "metadata": {
      "needs_background": "light"
     },
     "output_type": "display_data"
    }
   ],
   "source": [
    "yacht.plot(kind=\"scatter\", x=\"Fn\", y=\"R_rs\")"
   ]
  },
  {
   "cell_type": "code",
   "execution_count": 22,
   "metadata": {},
   "outputs": [
    {
     "data": {
      "text/plain": [
       "L_D_ratio    1.000000e+00\n",
       "L_B_ratio    6.763646e-01\n",
       "B_T_ratio    3.768233e-01\n",
       "Fn           1.769663e-16\n",
       "L_bc        -2.674076e-03\n",
       "R_rs        -2.967365e-03\n",
       "Cp          -4.631607e-02\n",
       "Name: L_D_ratio, dtype: float64"
      ]
     },
     "execution_count": 22,
     "metadata": {},
     "output_type": "execute_result"
    }
   ],
   "source": [
    "corr_matrix = yacht.corr()\n",
    "\n",
    "corr_matrix[\"L_D_ratio\"].sort_values(ascending=False)"
   ]
  },
  {
   "cell_type": "code",
   "execution_count": 23,
   "metadata": {},
   "outputs": [
    {
     "name": "stdout",
     "output_type": "stream",
     "text": [
      "Saving figure scatter_matrix_plot\n"
     ]
    },
    {
     "data": {
      "image/png": "[encoded data removed]",
      "text/plain": [
       "<Figure size 864x576 with 16 Axes>"
      ]
     },
     "metadata": {
      "needs_background": "light"
     },
     "output_type": "display_data"
    }
   ],
   "source": [
    "from pandas.plotting import scatter_matrix\n",
    "\n",
    "attributes = [\"L_D_ratio\", \"L_B_ratio\", \"B_T_ratio\", \"L_bc\"]\n",
    "scatter_matrix(yacht[attributes], figsize=(12, 8))\n",
    "save_fig(\"scatter_matrix_plot\")"
   ]
  },
  {
   "cell_type": "code",
   "execution_count": 24,
   "metadata": {},
   "outputs": [
    {
     "name": "stdout",
     "output_type": "stream",
     "text": [
      "Saving figure L_B_vs_L_D_ratio\n"
     ]
    },
    {
     "data": {
      "image/png": "[encoded data removed]",
      "text/plain": [
       "<Figure size 432x288 with 1 Axes>"
      ]
     },
     "metadata": {
      "needs_background": "light"
     },
     "output_type": "display_data"
    }
   ],
   "source": [
    "yacht.plot(kind=\"scatter\", x=\"L_B_ratio\", y=\"L_D_ratio\")\n",
    "save_fig(\"L_B_vs_L_D_ratio\")"
   ]
  },
  {
   "cell_type": "markdown",
   "metadata": {},
   "source": [
    "# 4. Prepare the data for ML algorithms"
   ]
  },
  {
   "cell_type": "markdown",
   "metadata": {},
   "source": [
    "### 4.1 Training and test set"
   ]
  },
  {
   "cell_type": "code",
   "execution_count": 25,
   "metadata": {},
   "outputs": [
    {
     "data": {
      "text/html": [
       "<div>\n",
       "<style scoped>\n",
       "    .dataframe tbody tr th:only-of-type {\n",
       "        vertical-align: middle;\n",
       "    }\n",
       "\n",
       "    .dataframe tbody tr th {\n",
       "        vertical-align: top;\n",
       "    }\n",
       "\n",
       "    .dataframe thead th {\n",
       "        text-align: right;\n",
       "    }\n",
       "</style>\n",
       "<table border=\"1\" class=\"dataframe\">\n",
       "  <thead>\n",
       "    <tr style=\"text-align: right;\">\n",
       "      <th></th>\n",
       "      <th>L_bc</th>\n",
       "      <th>Cp</th>\n",
       "      <th>L_D_ratio</th>\n",
       "      <th>B_T_ratio</th>\n",
       "      <th>L_B_ratio</th>\n",
       "      <th>Fn</th>\n",
       "      <th>R_rs</th>\n",
       "    </tr>\n",
       "  </thead>\n",
       "  <tbody>\n",
       "    <tr>\n",
       "      <th>126</th>\n",
       "      <td>0.0</td>\n",
       "      <td>0.565</td>\n",
       "      <td>4.77</td>\n",
       "      <td>3.99</td>\n",
       "      <td>3.15</td>\n",
       "      <td>0.125</td>\n",
       "      <td>0.11</td>\n",
       "    </tr>\n",
       "    <tr>\n",
       "      <th>109</th>\n",
       "      <td>-2.4</td>\n",
       "      <td>0.585</td>\n",
       "      <td>4.78</td>\n",
       "      <td>3.84</td>\n",
       "      <td>3.32</td>\n",
       "      <td>0.400</td>\n",
       "      <td>19.18</td>\n",
       "    </tr>\n",
       "    <tr>\n",
       "      <th>247</th>\n",
       "      <td>-5.0</td>\n",
       "      <td>0.600</td>\n",
       "      <td>4.78</td>\n",
       "      <td>4.24</td>\n",
       "      <td>3.15</td>\n",
       "      <td>0.350</td>\n",
       "      <td>8.62</td>\n",
       "    </tr>\n",
       "    <tr>\n",
       "      <th>234</th>\n",
       "      <td>0.0</td>\n",
       "      <td>0.600</td>\n",
       "      <td>4.78</td>\n",
       "      <td>4.24</td>\n",
       "      <td>3.15</td>\n",
       "      <td>0.375</td>\n",
       "      <td>15.25</td>\n",
       "    </tr>\n",
       "    <tr>\n",
       "      <th>202</th>\n",
       "      <td>-2.3</td>\n",
       "      <td>0.530</td>\n",
       "      <td>4.76</td>\n",
       "      <td>3.68</td>\n",
       "      <td>3.16</td>\n",
       "      <td>0.275</td>\n",
       "      <td>2.28</td>\n",
       "    </tr>\n",
       "  </tbody>\n",
       "</table>\n",
       "</div>"
      ],
      "text/plain": [
       "     L_bc     Cp  L_D_ratio  B_T_ratio  L_B_ratio     Fn   R_rs\n",
       "126   0.0  0.565       4.77       3.99       3.15  0.125   0.11\n",
       "109  -2.4  0.585       4.78       3.84       3.32  0.400  19.18\n",
       "247  -5.0  0.600       4.78       4.24       3.15  0.350   8.62\n",
       "234   0.0  0.600       4.78       4.24       3.15  0.375  15.25\n",
       "202  -2.3  0.530       4.76       3.68       3.16  0.275   2.28"
      ]
     },
     "execution_count": 25,
     "metadata": {},
     "output_type": "execute_result"
    }
   ],
   "source": [
    "from sklearn.model_selection import train_test_split\n",
    "\n",
    "train_set, test_set = train_test_split(yacht, test_size=0.2, random_state=42)\n",
    "\n",
    "train_set.head()"
   ]
  },
  {
   "cell_type": "code",
   "execution_count": 26,
   "metadata": {},
   "outputs": [
    {
     "name": "stdout",
     "output_type": "stream",
     "text": [
      "<class 'pandas.core.frame.DataFrame'>\n",
      "Int64Index: 246 entries, 126 to 102\n",
      "Data columns (total 7 columns):\n",
      " #   Column     Non-Null Count  Dtype  \n",
      "---  ------     --------------  -----  \n",
      " 0   L_bc       246 non-null    float64\n",
      " 1   Cp         246 non-null    float64\n",
      " 2   L_D_ratio  246 non-null    float64\n",
      " 3   B_T_ratio  246 non-null    float64\n",
      " 4   L_B_ratio  246 non-null    float64\n",
      " 5   Fn         246 non-null    float64\n",
      " 6   R_rs       246 non-null    float64\n",
      "dtypes: float64(7)\n",
      "memory usage: 15.4 KB\n"
     ]
    }
   ],
   "source": [
    "train_set.info()"
   ]
  },
  {
   "cell_type": "code",
   "execution_count": 27,
   "metadata": {},
   "outputs": [],
   "source": [
    "from sklearn.model_selection import StratifiedShuffleSplit\n",
    "\n",
    "split = StratifiedShuffleSplit(n_splits=1, test_size=0.2, random_state=42)\n",
    "for train_index, test_index in split.split(yacht, yacht[\"L_D_ratio\"]):\n",
    "    strat_train_set = yacht.loc[train_index]\n",
    "    strat_test_set = yacht.loc[test_index]"
   ]
  },
  {
   "cell_type": "code",
   "execution_count": 28,
   "metadata": {},
   "outputs": [],
   "source": [
    "yacht_features = strat_train_set.drop(\"R_rs\", axis=1)\n",
    "yacht_labels = strat_train_set[\"R_rs\"].copy()"
   ]
  },
  {
   "cell_type": "code",
   "execution_count": 29,
   "metadata": {},
   "outputs": [
    {
     "data": {
      "text/html": [
       "<div>\n",
       "<style scoped>\n",
       "    .dataframe tbody tr th:only-of-type {\n",
       "        vertical-align: middle;\n",
       "    }\n",
       "\n",
       "    .dataframe tbody tr th {\n",
       "        vertical-align: top;\n",
       "    }\n",
       "\n",
       "    .dataframe thead th {\n",
       "        text-align: right;\n",
       "    }\n",
       "</style>\n",
       "<table border=\"1\" class=\"dataframe\">\n",
       "  <thead>\n",
       "    <tr style=\"text-align: right;\">\n",
       "      <th></th>\n",
       "      <th>L_bc</th>\n",
       "      <th>Cp</th>\n",
       "      <th>L_D_ratio</th>\n",
       "      <th>B_T_ratio</th>\n",
       "      <th>L_B_ratio</th>\n",
       "      <th>Fn</th>\n",
       "    </tr>\n",
       "  </thead>\n",
       "  <tbody>\n",
       "  </tbody>\n",
       "</table>\n",
       "</div>"
      ],
      "text/plain": [
       "Empty DataFrame\n",
       "Columns: [L_bc, Cp, L_D_ratio, B_T_ratio, L_B_ratio, Fn]\n",
       "Index: []"
      ]
     },
     "execution_count": 29,
     "metadata": {},
     "output_type": "execute_result"
    }
   ],
   "source": [
    "sample_incomplete_rows = yacht_features[yacht_features.isnull().any(axis=1)]\n",
    "sample_incomplete_rows"
   ]
  },
  {
   "cell_type": "markdown",
   "metadata": {},
   "source": [
    "### 4.1 Custom transformers"
   ]
  },
  {
   "cell_type": "code",
   "execution_count": 30,
   "metadata": {},
   "outputs": [
    {
     "data": {
      "text/plain": [
       "(0, 1, 2)"
      ]
     },
     "execution_count": 30,
     "metadata": {},
     "output_type": "execute_result"
    }
   ],
   "source": [
    "column_names = \"L_bc\", \"Cp\", \"L_D_ratio\"\n",
    "L_bc_ix, Cp_ix, L_D_ratio_ix = [yacht_features.columns.get_loc(c) for c in column_names]\n",
    "L_bc_ix, Cp_ix, L_D_ratio_ix"
   ]
  },
  {
   "cell_type": "code",
   "execution_count": 31,
   "metadata": {},
   "outputs": [],
   "source": [
    "from sklearn.base import BaseEstimator, TransformerMixin\n",
    "\n",
    "class CombinedAtributeAdder(BaseEstimator, TransformerMixin):\n",
    "    def __init__(self, add_LD_Cp_ratio=True):\n",
    "        self.add_LD_Cp_ratio = add_LD_Cp_ratio\n",
    "    \n",
    "    def fit(self, X, y=None):\n",
    "        return self\n",
    "    \n",
    "    def transform(self, X):\n",
    "        Lbc_Cp_ratio = X[:, L_bc_ix] / X[:, Cp_ix]\n",
    "        if self.add_LD_Cp_ratio:\n",
    "            LD_Cp_ratio = X[:, L_D_ratio_ix] / X[:, Cp_ix]\n",
    "            return np.c_[X, Lbc_Cp_ratio, LD_Cp_ratio]\n",
    "        else:\n",
    "            return np.c_[X, Lbc_Cp_ratio]"
   ]
  },
  {
   "cell_type": "code",
   "execution_count": 32,
   "metadata": {},
   "outputs": [
    {
     "data": {
      "text/html": [
       "<div>\n",
       "<style scoped>\n",
       "    .dataframe tbody tr th:only-of-type {\n",
       "        vertical-align: middle;\n",
       "    }\n",
       "\n",
       "    .dataframe tbody tr th {\n",
       "        vertical-align: top;\n",
       "    }\n",
       "\n",
       "    .dataframe thead th {\n",
       "        text-align: right;\n",
       "    }\n",
       "</style>\n",
       "<table border=\"1\" class=\"dataframe\">\n",
       "  <thead>\n",
       "    <tr style=\"text-align: right;\">\n",
       "      <th></th>\n",
       "      <th>L_bc</th>\n",
       "      <th>Cp</th>\n",
       "      <th>L_D_ratio</th>\n",
       "      <th>B_T_ratio</th>\n",
       "      <th>L_B_ratio</th>\n",
       "      <th>Fn</th>\n",
       "      <th>Lbc_Cp_ratio</th>\n",
       "      <th>LD_Cp_ratio</th>\n",
       "    </tr>\n",
       "  </thead>\n",
       "  <tbody>\n",
       "    <tr>\n",
       "      <th>8</th>\n",
       "      <td>-2.3</td>\n",
       "      <td>0.568</td>\n",
       "      <td>4.78</td>\n",
       "      <td>3.99</td>\n",
       "      <td>3.17</td>\n",
       "      <td>0.325</td>\n",
       "      <td>-4.049296</td>\n",
       "      <td>8.415493</td>\n",
       "    </tr>\n",
       "    <tr>\n",
       "      <th>9</th>\n",
       "      <td>-2.3</td>\n",
       "      <td>0.568</td>\n",
       "      <td>4.78</td>\n",
       "      <td>3.99</td>\n",
       "      <td>3.17</td>\n",
       "      <td>0.350</td>\n",
       "      <td>-4.049296</td>\n",
       "      <td>8.415493</td>\n",
       "    </tr>\n",
       "    <tr>\n",
       "      <th>96</th>\n",
       "      <td>-2.3</td>\n",
       "      <td>0.562</td>\n",
       "      <td>5.14</td>\n",
       "      <td>4.95</td>\n",
       "      <td>3.17</td>\n",
       "      <td>0.425</td>\n",
       "      <td>-4.092527</td>\n",
       "      <td>9.145907</td>\n",
       "    </tr>\n",
       "    <tr>\n",
       "      <th>39</th>\n",
       "      <td>-2.3</td>\n",
       "      <td>0.565</td>\n",
       "      <td>4.78</td>\n",
       "      <td>5.35</td>\n",
       "      <td>2.76</td>\n",
       "      <td>0.400</td>\n",
       "      <td>-4.070796</td>\n",
       "      <td>8.460177</td>\n",
       "    </tr>\n",
       "    <tr>\n",
       "      <th>262</th>\n",
       "      <td>0.0</td>\n",
       "      <td>0.530</td>\n",
       "      <td>4.78</td>\n",
       "      <td>3.75</td>\n",
       "      <td>3.15</td>\n",
       "      <td>0.375</td>\n",
       "      <td>0.000000</td>\n",
       "      <td>9.018868</td>\n",
       "    </tr>\n",
       "  </tbody>\n",
       "</table>\n",
       "</div>"
      ],
      "text/plain": [
       "     L_bc     Cp  L_D_ratio  B_T_ratio  L_B_ratio     Fn  Lbc_Cp_ratio  \\\n",
       "8    -2.3  0.568       4.78       3.99       3.17  0.325     -4.049296   \n",
       "9    -2.3  0.568       4.78       3.99       3.17  0.350     -4.049296   \n",
       "96   -2.3  0.562       5.14       4.95       3.17  0.425     -4.092527   \n",
       "39   -2.3  0.565       4.78       5.35       2.76  0.400     -4.070796   \n",
       "262   0.0  0.530       4.78       3.75       3.15  0.375      0.000000   \n",
       "\n",
       "     LD_Cp_ratio  \n",
       "8       8.415493  \n",
       "9       8.415493  \n",
       "96      9.145907  \n",
       "39      8.460177  \n",
       "262     9.018868  "
      ]
     },
     "execution_count": 32,
     "metadata": {},
     "output_type": "execute_result"
    }
   ],
   "source": [
    "attribute_adder = CombinedAtributeAdder(add_LD_Cp_ratio=True)\n",
    "yacht_extra_attr = attribute_adder.transform(yacht_features.values)\n",
    "\n",
    "yacht_extra_attr = pd.DataFrame(yacht_extra_attr,\n",
    "                                    columns=list(yacht_features.columns)\n",
    "                                    +[\"Lbc_Cp_ratio\", \"LD_Cp_ratio\"],\n",
    "                                    index=yacht_features.index)\n",
    "\n",
    "yacht_extra_attr.head()"
   ]
  },
  {
   "cell_type": "code",
   "execution_count": 33,
   "metadata": {},
   "outputs": [
    {
     "data": {
      "text/html": [
       "<div>\n",
       "<style scoped>\n",
       "    .dataframe tbody tr th:only-of-type {\n",
       "        vertical-align: middle;\n",
       "    }\n",
       "\n",
       "    .dataframe tbody tr th {\n",
       "        vertical-align: top;\n",
       "    }\n",
       "\n",
       "    .dataframe thead th {\n",
       "        text-align: right;\n",
       "    }\n",
       "</style>\n",
       "<table border=\"1\" class=\"dataframe\">\n",
       "  <thead>\n",
       "    <tr style=\"text-align: right;\">\n",
       "      <th></th>\n",
       "      <th>L_bc</th>\n",
       "      <th>Cp</th>\n",
       "      <th>L_D_ratio</th>\n",
       "      <th>B_T_ratio</th>\n",
       "      <th>L_B_ratio</th>\n",
       "      <th>Fn</th>\n",
       "      <th>Lbc_Cp_ratio</th>\n",
       "      <th>LD_Cp_ratio</th>\n",
       "    </tr>\n",
       "  </thead>\n",
       "  <tbody>\n",
       "    <tr>\n",
       "      <th>count</th>\n",
       "      <td>246.000000</td>\n",
       "      <td>246.000000</td>\n",
       "      <td>246.000000</td>\n",
       "      <td>246.000000</td>\n",
       "      <td>246.000000</td>\n",
       "      <td>246.000000</td>\n",
       "      <td>246.000000</td>\n",
       "      <td>246.000000</td>\n",
       "    </tr>\n",
       "    <tr>\n",
       "      <th>mean</th>\n",
       "      <td>-2.412195</td>\n",
       "      <td>0.565167</td>\n",
       "      <td>4.788008</td>\n",
       "      <td>3.930691</td>\n",
       "      <td>3.211626</td>\n",
       "      <td>0.290041</td>\n",
       "      <td>-4.269742</td>\n",
       "      <td>8.487397</td>\n",
       "    </tr>\n",
       "    <tr>\n",
       "      <th>std</th>\n",
       "      <td>1.512132</td>\n",
       "      <td>0.023367</td>\n",
       "      <td>0.253507</td>\n",
       "      <td>0.542390</td>\n",
       "      <td>0.250478</td>\n",
       "      <td>0.103176</td>\n",
       "      <td>2.672707</td>\n",
       "      <td>0.584001</td>\n",
       "    </tr>\n",
       "    <tr>\n",
       "      <th>min</th>\n",
       "      <td>-5.000000</td>\n",
       "      <td>0.530000</td>\n",
       "      <td>4.340000</td>\n",
       "      <td>2.810000</td>\n",
       "      <td>2.730000</td>\n",
       "      <td>0.125000</td>\n",
       "      <td>-9.433962</td>\n",
       "      <td>7.233333</td>\n",
       "    </tr>\n",
       "    <tr>\n",
       "      <th>25%</th>\n",
       "      <td>-2.400000</td>\n",
       "      <td>0.546000</td>\n",
       "      <td>4.770000</td>\n",
       "      <td>3.750000</td>\n",
       "      <td>3.150000</td>\n",
       "      <td>0.200000</td>\n",
       "      <td>-4.339623</td>\n",
       "      <td>8.170940</td>\n",
       "    </tr>\n",
       "    <tr>\n",
       "      <th>50%</th>\n",
       "      <td>-2.300000</td>\n",
       "      <td>0.565000</td>\n",
       "      <td>4.780000</td>\n",
       "      <td>3.955000</td>\n",
       "      <td>3.150000</td>\n",
       "      <td>0.300000</td>\n",
       "      <td>-4.092527</td>\n",
       "      <td>8.442478</td>\n",
       "    </tr>\n",
       "    <tr>\n",
       "      <th>75%</th>\n",
       "      <td>-2.300000</td>\n",
       "      <td>0.574000</td>\n",
       "      <td>5.100000</td>\n",
       "      <td>4.170000</td>\n",
       "      <td>3.510000</td>\n",
       "      <td>0.375000</td>\n",
       "      <td>-3.833333</td>\n",
       "      <td>9.018868</td>\n",
       "    </tr>\n",
       "    <tr>\n",
       "      <th>max</th>\n",
       "      <td>0.000000</td>\n",
       "      <td>0.600000</td>\n",
       "      <td>5.140000</td>\n",
       "      <td>5.350000</td>\n",
       "      <td>3.640000</td>\n",
       "      <td>0.450000</td>\n",
       "      <td>0.000000</td>\n",
       "      <td>9.641509</td>\n",
       "    </tr>\n",
       "  </tbody>\n",
       "</table>\n",
       "</div>"
      ],
      "text/plain": [
       "             L_bc          Cp   L_D_ratio   B_T_ratio   L_B_ratio          Fn  \\\n",
       "count  246.000000  246.000000  246.000000  246.000000  246.000000  246.000000   \n",
       "mean    -2.412195    0.565167    4.788008    3.930691    3.211626    0.290041   \n",
       "std      1.512132    0.023367    0.253507    0.542390    0.250478    0.103176   \n",
       "min     -5.000000    0.530000    4.340000    2.810000    2.730000    0.125000   \n",
       "25%     -2.400000    0.546000    4.770000    3.750000    3.150000    0.200000   \n",
       "50%     -2.300000    0.565000    4.780000    3.955000    3.150000    0.300000   \n",
       "75%     -2.300000    0.574000    5.100000    4.170000    3.510000    0.375000   \n",
       "max      0.000000    0.600000    5.140000    5.350000    3.640000    0.450000   \n",
       "\n",
       "       Lbc_Cp_ratio  LD_Cp_ratio  \n",
       "count    246.000000   246.000000  \n",
       "mean      -4.269742     8.487397  \n",
       "std        2.672707     0.584001  \n",
       "min       -9.433962     7.233333  \n",
       "25%       -4.339623     8.170940  \n",
       "50%       -4.092527     8.442478  \n",
       "75%       -3.833333     9.018868  \n",
       "max        0.000000     9.641509  "
      ]
     },
     "execution_count": 33,
     "metadata": {},
     "output_type": "execute_result"
    }
   ],
   "source": [
    "yacht_extra_attr.describe()"
   ]
  },
  {
   "cell_type": "markdown",
   "metadata": {},
   "source": [
    "### 4.2 Transformation pipelines"
   ]
  },
  {
   "cell_type": "code",
   "execution_count": 34,
   "metadata": {},
   "outputs": [],
   "source": [
    "from sklearn.pipeline import Pipeline\n",
    "from sklearn.preprocessing import StandardScaler\n",
    "\n",
    "yacht_pipeline = Pipeline([\n",
    "            (\"attributes_adder\", CombinedAtributeAdder()),\n",
    "            (\"features_scaler\", StandardScaler()),\n",
    "        ])"
   ]
  },
  {
   "cell_type": "code",
   "execution_count": 35,
   "metadata": {},
   "outputs": [
    {
     "data": {
      "text/plain": [
       "array([[ 0.07434789,  0.12150079, -0.03165378, ...,  0.3395227 ,\n",
       "         0.08264851, -0.12337376],\n",
       "       [ 0.07434789,  0.12150079, -0.03165378, ...,  0.5823209 ,\n",
       "         0.08264851, -0.12337376],\n",
       "       [ 0.07434789, -0.135795  ,  1.39132037, ...,  1.31071553,\n",
       "         0.06644058,  1.12988396],\n",
       "       ...,\n",
       "       [ 0.07434789, -1.5080392 ,  1.27273919, ..., -0.14607372,\n",
       "        -0.02619946,  1.98024627],\n",
       "       [ 1.59847965,  1.49374499, -0.03165378, ...,  0.09672449,\n",
       "         1.60079123, -0.89347758],\n",
       "       [ 0.07434789, -0.05002974,  1.23321213, ...,  1.31071553,\n",
       "         0.07188154,  0.95254691]])"
      ]
     },
     "execution_count": 35,
     "metadata": {},
     "output_type": "execute_result"
    }
   ],
   "source": [
    "yacht_features_tr = yacht_pipeline.fit_transform(yacht_features.values)\n",
    "\n",
    "yacht_features_tr"
   ]
  },
  {
   "cell_type": "markdown",
   "metadata": {},
   "source": [
    "# 5. SELECT AND TRAIN A MODEL"
   ]
  },
  {
   "cell_type": "markdown",
   "metadata": {},
   "source": [
    "### 5.1 Linear Regression"
   ]
  },
  {
   "cell_type": "code",
   "execution_count": 36,
   "metadata": {},
   "outputs": [],
   "source": [
    "from sklearn.linear_model import LinearRegression\n",
    "from sklearn.metrics import mean_squared_error"
   ]
  },
  {
   "cell_type": "code",
   "execution_count": 37,
   "metadata": {},
   "outputs": [
    {
     "data": {
      "text/plain": [
       "82.26459908985167"
      ]
     },
     "execution_count": 37,
     "metadata": {},
     "output_type": "execute_result"
    }
   ],
   "source": [
    "lin_reg = LinearRegression()\n",
    "lin_reg.fit(yacht_features_tr, yacht_labels)\n",
    "yacht_predictions = lin_reg.predict(yacht_features_tr)\n",
    "\n",
    "lin_mse = mean_squared_error(yacht_labels, yacht_predictions)\n",
    "lin_rmse = np.sqrt(lin_mse)\n",
    "lin_mse"
   ]
  },
  {
   "cell_type": "code",
   "execution_count": 38,
   "metadata": {},
   "outputs": [
    {
     "data": {
      "text/plain": [
       "(11.235284552845519,\n",
       " array([-13.16192511,  -6.85263385,  11.4299534 ,  -3.0111414 ,\n",
       "         -3.72660571,  12.89617341,  13.81782185, -10.29073859]))"
      ]
     },
     "execution_count": 38,
     "metadata": {},
     "output_type": "execute_result"
    }
   ],
   "source": [
    "lin_reg.intercept_, lin_reg.coef_"
   ]
  },
  {
   "cell_type": "code",
   "execution_count": 39,
   "metadata": {},
   "outputs": [],
   "source": [
    "def plot_learning_curves(model, features, labels):\n",
    "    features_train, features_val, labels_train, labels_val = train_test_split(features, labels, test_size=0.1, random_state=42)\n",
    "    train_errors, val_errors = [], []\n",
    "    for m in range(1, len(features_train) + 1):\n",
    "        model.fit(features_train[:m], labels_train[:m])\n",
    "        train_predict = model.predict(features_train[:m])\n",
    "        val_predict = model.predict(features_val)\n",
    "        train_errors.append(mean_squared_error(train_predict, labels_train[:m]))\n",
    "        val_errors.append(mean_squared_error(val_predict, labels_val))\n",
    "    \n",
    "    plt.plot(np.sqrt(train_errors), 'r-.', linewidth=3, label='train')\n",
    "    plt.plot(np.sqrt(val_errors), 'b-', linewidth=3, label='val')\n",
    "    plt.legend(loc='upper right', fontsize=14)\n",
    "    plt.xlabel(\"Training set size\", fontsize=14)\n",
    "    plt.ylabel(\"RMSE\", fontsize=14)\n",
    "    print(\"Training error:\", np.sqrt(train_errors[-1]))\n",
    "    print(\"Vallidation error:\", np.sqrt(val_errors[-1]))"
   ]
  },
  {
   "cell_type": "code",
   "execution_count": 40,
   "metadata": {},
   "outputs": [
    {
     "name": "stdout",
     "output_type": "stream",
     "text": [
      "Training error: 9.191845331269144\n",
      "Vallidation error: 8.000826120178678\n",
      "Saving figure linear_regression_learning_curve\n"
     ]
    },
    {
     "data": {
      "image/png": "[encoded data removed]",
      "text/plain": [
       "<Figure size 432x288 with 1 Axes>"
      ]
     },
     "metadata": {
      "needs_background": "light"
     },
     "output_type": "display_data"
    }
   ],
   "source": [
    "plot_learning_curves(lin_reg, yacht_features_tr, yacht_labels)\n",
    "plt.axis([0, 220, 0, 20])\n",
    "save_fig(\"linear_regression_learning_curve\")\n",
    "plt.show()"
   ]
  },
  {
   "cell_type": "code",
   "execution_count": 41,
   "metadata": {},
   "outputs": [
    {
     "data": {
      "text/plain": [
       "(11.161623974363412,\n",
       " array([-11.08438856,  -8.8261064 ,  16.25776522,  -4.48307695,\n",
       "         -5.1203936 ,  12.92455863,  11.67989326, -14.57536705]))"
      ]
     },
     "execution_count": 41,
     "metadata": {},
     "output_type": "execute_result"
    }
   ],
   "source": [
    "lin_reg.intercept_, lin_reg.coef_"
   ]
  },
  {
   "cell_type": "markdown",
   "metadata": {},
   "source": [
    "### 5.2 Polynomial Regression"
   ]
  },
  {
   "cell_type": "code",
   "execution_count": 42,
   "metadata": {},
   "outputs": [],
   "source": [
    "from sklearn.preprocessing import PolynomialFeatures\n",
    "\n",
    "polynomial_regression = Pipeline([\n",
    "        (\"attributes_adder\", CombinedAtributeAdder()),\n",
    "        (\"poly_features\", PolynomialFeatures(degree=5, include_bias=False)),\n",
    "        (\"features_scaler\", StandardScaler()),\n",
    "        (\"lin_reg\", LinearRegression()),\n",
    "    ])"
   ]
  },
  {
   "cell_type": "code",
   "execution_count": 43,
   "metadata": {},
   "outputs": [
    {
     "name": "stdout",
     "output_type": "stream",
     "text": [
      "Training error: 0.30824664113497735\n",
      "Vallidation error: 0.5419146962632733\n",
      "Saving figure polynomial_regression_learning_curve\n"
     ]
    },
    {
     "data": {
      "image/png": "[encoded data removed]",
      "text/plain": [
       "<Figure size 432x288 with 1 Axes>"
      ]
     },
     "metadata": {
      "needs_background": "light"
     },
     "output_type": "display_data"
    }
   ],
   "source": [
    "plot_learning_curves(polynomial_regression, yacht_features.values, yacht_labels)\n",
    "save_fig(\"polynomial_regression_learning_curve\")\n",
    "plt.show()"
   ]
  },
  {
   "cell_type": "markdown",
   "metadata": {},
   "source": [
    "### 5.3 Elastic Net"
   ]
  },
  {
   "cell_type": "code",
   "execution_count": 44,
   "metadata": {},
   "outputs": [],
   "source": [
    "from sklearn.linear_model import ElasticNet\n",
    "\n",
    "elastic_net = ElasticNet(alpha=0.1, l1_ratio=0.5, random_state=42)"
   ]
  },
  {
   "cell_type": "code",
   "execution_count": 45,
   "metadata": {},
   "outputs": [
    {
     "name": "stderr",
     "output_type": "stream",
     "text": [
      "c:\\Users\\dujer\\.conda\\envs\\tf2\\lib\\site-packages\\sklearn\\linear_model\\_coordinate_descent.py:647: ConvergenceWarning: Objective did not converge. You might want to increase the number of iterations, check the scale of the features or consider increasing regularisation. Duality gap: 0.000e+00, tolerance: 0.000e+00\n",
      "  model = cd_fast.enet_coordinate_descent(\n"
     ]
    },
    {
     "name": "stdout",
     "output_type": "stream",
     "text": [
      "Training error: 9.255708157520592\n",
      "Vallidation error: 7.914674093284909\n",
      "Saving figure elastic_net_learning_curve\n"
     ]
    },
    {
     "data": {
      "image/png": "[encoded data removed]",
      "text/plain": [
       "<Figure size 432x288 with 1 Axes>"
      ]
     },
     "metadata": {
      "needs_background": "light"
     },
     "output_type": "display_data"
    }
   ],
   "source": [
    "plot_learning_curves(elastic_net, yacht_features_tr, yacht_labels)\n",
    "save_fig(\"elastic_net_learning_curve\")\n",
    "plt.show()"
   ]
  }
 ],
 "metadata": {
  "kernelspec": {
   "display_name": "Python 3.8.13 ('tf2')",
   "language": "python",
   "name": "python3"
  },
  "language_info": {
   "codemirror_mode": {
    "name": "ipython",
    "version": 3
   },
   "file_extension": ".py",
   "mimetype": "text/x-python",
   "name": "python",
   "nbconvert_exporter": "python",
   "pygments_lexer": "ipython3",
   "version": "3.8.13"
  },
  "orig_nbformat": 4,
  "vscode": {
   "interpreter": {
    "hash": "6eee62b2fec151ce9a9eb89d686c4222d4e87fe0e69d6ea04251c0ed1da725b1"
   }
  }
 },
 "nbformat": 4,
 "nbformat_minor": 2
}
