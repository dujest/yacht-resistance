{
 "cells": [
  {
   "cell_type": "markdown",
   "metadata": {},
   "source": [
    "# Predicting the Residuary Resistance of Sailing Yachts\n",
    "\n",
    "1. **Frame the problem and look at the big picture**\n",
    "2. **Get the Data**\n",
    "3. **Data Insights**\n",
    "4. **Prepare the Data for ML Algorithms**\n",
    "5. **Select and Train a Model**\n",
    "6. **Model Fine-Tuning**\n",
    "7. **Test Set Evaluation**\n",
    "8. **Deploy the Model**"
   ]
  },
  {
   "cell_type": "code",
   "execution_count": 1,
   "metadata": {},
   "outputs": [
    {
     "name": "stdout",
     "output_type": "stream",
     "text": [
      "Python version: sys.version_info(major=3, minor=8, micro=13, releaselevel='final', serial=0)\n"
     ]
    }
   ],
   "source": [
    "import sys\n",
    "print(\"Python version:\", sys.version_info)"
   ]
  },
  {
   "cell_type": "code",
   "execution_count": 2,
   "metadata": {},
   "outputs": [
    {
     "name": "stdout",
     "output_type": "stream",
     "text": [
      "scikit-learn version: 1.0.2\n"
     ]
    }
   ],
   "source": [
    "import sklearn\n",
    "print(\"scikit-learn version:\", sklearn.__version__)"
   ]
  },
  {
   "cell_type": "markdown",
   "metadata": {},
   "source": [
    "# 2. Get the Data"
   ]
  },
  {
   "cell_type": "code",
   "execution_count": 3,
   "metadata": {},
   "outputs": [],
   "source": [
    "import os\n",
    "import urllib.request"
   ]
  },
  {
   "cell_type": "code",
   "execution_count": 4,
   "metadata": {},
   "outputs": [],
   "source": [
    "DOWNLOAD_ROOT = \"http://archive.ics.uci.edu/ml/machine-learning-databases/00243/\"\n",
    "DATA_URL = DOWNLOAD_ROOT + \"yacht_hydrodynamics.data\"\n",
    "DATA_PATH = os.path.join(\"datasets\", \"yacht\")"
   ]
  },
  {
   "cell_type": "code",
   "execution_count": 5,
   "metadata": {},
   "outputs": [],
   "source": [
    "def fetch_data(data_url=DATA_URL, data_path=DATA_PATH):\n",
    "    if not os.path.isdir(data_path):\n",
    "        os.makedirs(data_path)\n",
    "    full_data_path = os.path.join(data_path, \"yacht_hydrodynamics.data\")\n",
    "    urllib.request.urlretrieve(data_url, full_data_path)\n",
    "\n",
    "fetch_data()"
   ]
  },
  {
   "cell_type": "code",
   "execution_count": 6,
   "metadata": {},
   "outputs": [],
   "source": [
    "import pandas as pd\n",
    "\n",
    "columns = [\"Centre_of_Buoyancy\", \"Prismatic_Coefficient\", \"Length/Displacement_Ratio\", \"Beam/Draft_Ratio\", \n",
    "           \"Length/Beam_Ratio\", \"Froude_Number\", \"Residuary_Resistance\"]\n",
    "\n",
    "def load_data(data_path=DATA_PATH):\n",
    "    full_data_path = os.path.join(data_path, \"yacht_hydrodynamics.data\")\n",
    "    return pd.read_table(full_data_path, sep='\\s+', names=columns)\n",
    "\n",
    "yacht = load_data()"
   ]
  },
  {
   "cell_type": "markdown",
   "metadata": {},
   "source": [
    "# 3. Data Insights\n",
    "\n",
    "This is an iterative process: once you get a prototype up and running, you can analyze its output to gain more insights and come back to this\n",
    "exploration step.\n",
    "\n",
    "1. Check for data type of columns\n",
    "2. Check for null values\n",
    "3. Check for statistics\n",
    "3. Plot for correlations\n",
    "4. Create a test set\n",
    "5. Look for new attributes"
   ]
  },
  {
   "cell_type": "markdown",
   "metadata": {},
   "source": [
    "## The Data Structure"
   ]
  },
  {
   "cell_type": "code",
   "execution_count": 7,
   "metadata": {},
   "outputs": [
    {
     "data": {
      "text/html": [
       "<div>\n",
       "<style scoped>\n",
       "    .dataframe tbody tr th:only-of-type {\n",
       "        vertical-align: middle;\n",
       "    }\n",
       "\n",
       "    .dataframe tbody tr th {\n",
       "        vertical-align: top;\n",
       "    }\n",
       "\n",
       "    .dataframe thead th {\n",
       "        text-align: right;\n",
       "    }\n",
       "</style>\n",
       "<table border=\"1\" class=\"dataframe\">\n",
       "  <thead>\n",
       "    <tr style=\"text-align: right;\">\n",
       "      <th></th>\n",
       "      <th>Centre_of_Buoyancy</th>\n",
       "      <th>Prismatic_Coefficient</th>\n",
       "      <th>Length/Displacement_Ratio</th>\n",
       "      <th>Beam/Draft_Ratio</th>\n",
       "      <th>Length/Beam_Ratio</th>\n",
       "      <th>Froude_Number</th>\n",
       "      <th>Residuary_Resistance</th>\n",
       "    </tr>\n",
       "  </thead>\n",
       "  <tbody>\n",
       "    <tr>\n",
       "      <th>0</th>\n",
       "      <td>-2.3</td>\n",
       "      <td>0.568</td>\n",
       "      <td>4.78</td>\n",
       "      <td>3.99</td>\n",
       "      <td>3.17</td>\n",
       "      <td>0.125</td>\n",
       "      <td>0.11</td>\n",
       "    </tr>\n",
       "    <tr>\n",
       "      <th>1</th>\n",
       "      <td>-2.3</td>\n",
       "      <td>0.568</td>\n",
       "      <td>4.78</td>\n",
       "      <td>3.99</td>\n",
       "      <td>3.17</td>\n",
       "      <td>0.150</td>\n",
       "      <td>0.27</td>\n",
       "    </tr>\n",
       "    <tr>\n",
       "      <th>2</th>\n",
       "      <td>-2.3</td>\n",
       "      <td>0.568</td>\n",
       "      <td>4.78</td>\n",
       "      <td>3.99</td>\n",
       "      <td>3.17</td>\n",
       "      <td>0.175</td>\n",
       "      <td>0.47</td>\n",
       "    </tr>\n",
       "    <tr>\n",
       "      <th>3</th>\n",
       "      <td>-2.3</td>\n",
       "      <td>0.568</td>\n",
       "      <td>4.78</td>\n",
       "      <td>3.99</td>\n",
       "      <td>3.17</td>\n",
       "      <td>0.200</td>\n",
       "      <td>0.78</td>\n",
       "    </tr>\n",
       "    <tr>\n",
       "      <th>4</th>\n",
       "      <td>-2.3</td>\n",
       "      <td>0.568</td>\n",
       "      <td>4.78</td>\n",
       "      <td>3.99</td>\n",
       "      <td>3.17</td>\n",
       "      <td>0.225</td>\n",
       "      <td>1.18</td>\n",
       "    </tr>\n",
       "    <tr>\n",
       "      <th>5</th>\n",
       "      <td>-2.3</td>\n",
       "      <td>0.568</td>\n",
       "      <td>4.78</td>\n",
       "      <td>3.99</td>\n",
       "      <td>3.17</td>\n",
       "      <td>0.250</td>\n",
       "      <td>1.82</td>\n",
       "    </tr>\n",
       "    <tr>\n",
       "      <th>6</th>\n",
       "      <td>-2.3</td>\n",
       "      <td>0.568</td>\n",
       "      <td>4.78</td>\n",
       "      <td>3.99</td>\n",
       "      <td>3.17</td>\n",
       "      <td>0.275</td>\n",
       "      <td>2.61</td>\n",
       "    </tr>\n",
       "    <tr>\n",
       "      <th>7</th>\n",
       "      <td>-2.3</td>\n",
       "      <td>0.568</td>\n",
       "      <td>4.78</td>\n",
       "      <td>3.99</td>\n",
       "      <td>3.17</td>\n",
       "      <td>0.300</td>\n",
       "      <td>3.76</td>\n",
       "    </tr>\n",
       "    <tr>\n",
       "      <th>8</th>\n",
       "      <td>-2.3</td>\n",
       "      <td>0.568</td>\n",
       "      <td>4.78</td>\n",
       "      <td>3.99</td>\n",
       "      <td>3.17</td>\n",
       "      <td>0.325</td>\n",
       "      <td>4.99</td>\n",
       "    </tr>\n",
       "    <tr>\n",
       "      <th>9</th>\n",
       "      <td>-2.3</td>\n",
       "      <td>0.568</td>\n",
       "      <td>4.78</td>\n",
       "      <td>3.99</td>\n",
       "      <td>3.17</td>\n",
       "      <td>0.350</td>\n",
       "      <td>7.16</td>\n",
       "    </tr>\n",
       "  </tbody>\n",
       "</table>\n",
       "</div>"
      ],
      "text/plain": [
       "   Centre_of_Buoyancy  Prismatic_Coefficient  Length/Displacement_Ratio  \\\n",
       "0                -2.3                  0.568                       4.78   \n",
       "1                -2.3                  0.568                       4.78   \n",
       "2                -2.3                  0.568                       4.78   \n",
       "3                -2.3                  0.568                       4.78   \n",
       "4                -2.3                  0.568                       4.78   \n",
       "5                -2.3                  0.568                       4.78   \n",
       "6                -2.3                  0.568                       4.78   \n",
       "7                -2.3                  0.568                       4.78   \n",
       "8                -2.3                  0.568                       4.78   \n",
       "9                -2.3                  0.568                       4.78   \n",
       "\n",
       "   Beam/Draft_Ratio  Length/Beam_Ratio  Froude_Number  Residuary_Resistance  \n",
       "0              3.99               3.17          0.125                  0.11  \n",
       "1              3.99               3.17          0.150                  0.27  \n",
       "2              3.99               3.17          0.175                  0.47  \n",
       "3              3.99               3.17          0.200                  0.78  \n",
       "4              3.99               3.17          0.225                  1.18  \n",
       "5              3.99               3.17          0.250                  1.82  \n",
       "6              3.99               3.17          0.275                  2.61  \n",
       "7              3.99               3.17          0.300                  3.76  \n",
       "8              3.99               3.17          0.325                  4.99  \n",
       "9              3.99               3.17          0.350                  7.16  "
      ]
     },
     "execution_count": 7,
     "metadata": {},
     "output_type": "execute_result"
    }
   ],
   "source": [
    "# look at the top ten rows\n",
    "yacht.head(10)"
   ]
  },
  {
   "cell_type": "code",
   "execution_count": 8,
   "metadata": {},
   "outputs": [
    {
     "name": "stdout",
     "output_type": "stream",
     "text": [
      "<class 'pandas.core.frame.DataFrame'>\n",
      "RangeIndex: 308 entries, 0 to 307\n",
      "Data columns (total 7 columns):\n",
      " #   Column                     Non-Null Count  Dtype  \n",
      "---  ------                     --------------  -----  \n",
      " 0   Centre_of_Buoyancy         308 non-null    float64\n",
      " 1   Prismatic_Coefficient      308 non-null    float64\n",
      " 2   Length/Displacement_Ratio  308 non-null    float64\n",
      " 3   Beam/Draft_Ratio           308 non-null    float64\n",
      " 4   Length/Beam_Ratio          308 non-null    float64\n",
      " 5   Froude_Number              308 non-null    float64\n",
      " 6   Residuary_Resistance       308 non-null    float64\n",
      "dtypes: float64(7)\n",
      "memory usage: 17.0 KB\n"
     ]
    }
   ],
   "source": [
    "# get a quick description of the data:\n",
    "# the total number of rows, each attribute's type, and the number of non-null values\n",
    "yacht.info()"
   ]
  },
  {
   "cell_type": "markdown",
   "metadata": {},
   "source": [
    "There are 308 instances in the dataset, which means that it is fairly small by ML standards, but the aim of this project is to apply machine learning in the domain of naval engineering."
   ]
  },
  {
   "cell_type": "code",
   "execution_count": 9,
   "metadata": {},
   "outputs": [
    {
     "data": {
      "text/plain": [
       "Centre_of_Buoyancy           0\n",
       "Prismatic_Coefficient        0\n",
       "Length/Displacement_Ratio    0\n",
       "Beam/Draft_Ratio             0\n",
       "Length/Beam_Ratio            0\n",
       "Froude_Number                0\n",
       "Residuary_Resistance         0\n",
       "dtype: int64"
      ]
     },
     "execution_count": 9,
     "metadata": {},
     "output_type": "execute_result"
    }
   ],
   "source": [
    "# the number of null values for each attribute\n",
    "yacht.isnull().sum()"
   ]
  },
  {
   "cell_type": "code",
   "execution_count": 10,
   "metadata": {},
   "outputs": [
    {
     "data": {
      "text/plain": [
       "0.125    22\n",
       "0.150    22\n",
       "0.175    22\n",
       "0.200    22\n",
       "0.225    22\n",
       "0.250    22\n",
       "0.275    22\n",
       "0.300    22\n",
       "0.325    22\n",
       "0.350    22\n",
       "0.375    22\n",
       "0.400    22\n",
       "0.425    22\n",
       "0.450    22\n",
       "Name: Froude_Number, dtype: int64"
      ]
     },
     "execution_count": 10,
     "metadata": {},
     "output_type": "execute_result"
    }
   ],
   "source": [
    "# 22 sailing yacht hull forms were tested at the same speeds within the speed range 0.125 - 0.450\n",
    "yacht[\"Froude_Number\"].value_counts()"
   ]
  },
  {
   "cell_type": "code",
   "execution_count": 11,
   "metadata": {},
   "outputs": [
    {
     "data": {
      "text/html": [
       "<div>\n",
       "<style scoped>\n",
       "    .dataframe tbody tr th:only-of-type {\n",
       "        vertical-align: middle;\n",
       "    }\n",
       "\n",
       "    .dataframe tbody tr th {\n",
       "        vertical-align: top;\n",
       "    }\n",
       "\n",
       "    .dataframe thead th {\n",
       "        text-align: right;\n",
       "    }\n",
       "</style>\n",
       "<table border=\"1\" class=\"dataframe\">\n",
       "  <thead>\n",
       "    <tr style=\"text-align: right;\">\n",
       "      <th></th>\n",
       "      <th>Centre_of_Buoyancy</th>\n",
       "      <th>Prismatic_Coefficient</th>\n",
       "      <th>Length/Displacement_Ratio</th>\n",
       "      <th>Beam/Draft_Ratio</th>\n",
       "      <th>Length/Beam_Ratio</th>\n",
       "      <th>Froude_Number</th>\n",
       "      <th>Residuary_Resistance</th>\n",
       "    </tr>\n",
       "  </thead>\n",
       "  <tbody>\n",
       "    <tr>\n",
       "      <th>count</th>\n",
       "      <td>308.000</td>\n",
       "      <td>308.000</td>\n",
       "      <td>308.000</td>\n",
       "      <td>308.000</td>\n",
       "      <td>308.000</td>\n",
       "      <td>308.000</td>\n",
       "      <td>308.000</td>\n",
       "    </tr>\n",
       "    <tr>\n",
       "      <th>mean</th>\n",
       "      <td>-2.382</td>\n",
       "      <td>0.564</td>\n",
       "      <td>4.789</td>\n",
       "      <td>3.937</td>\n",
       "      <td>3.207</td>\n",
       "      <td>0.288</td>\n",
       "      <td>10.495</td>\n",
       "    </tr>\n",
       "    <tr>\n",
       "      <th>std</th>\n",
       "      <td>1.513</td>\n",
       "      <td>0.023</td>\n",
       "      <td>0.253</td>\n",
       "      <td>0.548</td>\n",
       "      <td>0.248</td>\n",
       "      <td>0.101</td>\n",
       "      <td>15.160</td>\n",
       "    </tr>\n",
       "    <tr>\n",
       "      <th>min</th>\n",
       "      <td>-5.000</td>\n",
       "      <td>0.530</td>\n",
       "      <td>4.340</td>\n",
       "      <td>2.810</td>\n",
       "      <td>2.730</td>\n",
       "      <td>0.125</td>\n",
       "      <td>0.010</td>\n",
       "    </tr>\n",
       "    <tr>\n",
       "      <th>25%</th>\n",
       "      <td>-2.400</td>\n",
       "      <td>0.546</td>\n",
       "      <td>4.770</td>\n",
       "      <td>3.750</td>\n",
       "      <td>3.150</td>\n",
       "      <td>0.200</td>\n",
       "      <td>0.778</td>\n",
       "    </tr>\n",
       "    <tr>\n",
       "      <th>50%</th>\n",
       "      <td>-2.300</td>\n",
       "      <td>0.565</td>\n",
       "      <td>4.780</td>\n",
       "      <td>3.955</td>\n",
       "      <td>3.150</td>\n",
       "      <td>0.288</td>\n",
       "      <td>3.065</td>\n",
       "    </tr>\n",
       "    <tr>\n",
       "      <th>75%</th>\n",
       "      <td>-2.300</td>\n",
       "      <td>0.574</td>\n",
       "      <td>5.100</td>\n",
       "      <td>4.170</td>\n",
       "      <td>3.510</td>\n",
       "      <td>0.375</td>\n",
       "      <td>12.815</td>\n",
       "    </tr>\n",
       "    <tr>\n",
       "      <th>max</th>\n",
       "      <td>0.000</td>\n",
       "      <td>0.600</td>\n",
       "      <td>5.140</td>\n",
       "      <td>5.350</td>\n",
       "      <td>3.640</td>\n",
       "      <td>0.450</td>\n",
       "      <td>62.420</td>\n",
       "    </tr>\n",
       "  </tbody>\n",
       "</table>\n",
       "</div>"
      ],
      "text/plain": [
       "       Centre_of_Buoyancy  Prismatic_Coefficient  Length/Displacement_Ratio  \\\n",
       "count             308.000                308.000                    308.000   \n",
       "mean               -2.382                  0.564                      4.789   \n",
       "std                 1.513                  0.023                      0.253   \n",
       "min                -5.000                  0.530                      4.340   \n",
       "25%                -2.400                  0.546                      4.770   \n",
       "50%                -2.300                  0.565                      4.780   \n",
       "75%                -2.300                  0.574                      5.100   \n",
       "max                 0.000                  0.600                      5.140   \n",
       "\n",
       "       Beam/Draft_Ratio  Length/Beam_Ratio  Froude_Number  \\\n",
       "count           308.000            308.000        308.000   \n",
       "mean              3.937              3.207          0.288   \n",
       "std               0.548              0.248          0.101   \n",
       "min               2.810              2.730          0.125   \n",
       "25%               3.750              3.150          0.200   \n",
       "50%               3.955              3.150          0.288   \n",
       "75%               4.170              3.510          0.375   \n",
       "max               5.350              3.640          0.450   \n",
       "\n",
       "       Residuary_Resistance  \n",
       "count               308.000  \n",
       "mean                 10.495  \n",
       "std                  15.160  \n",
       "min                   0.010  \n",
       "25%                   0.778  \n",
       "50%                   3.065  \n",
       "75%                  12.815  \n",
       "max                  62.420  "
      ]
     },
     "execution_count": 11,
     "metadata": {},
     "output_type": "execute_result"
    }
   ],
   "source": [
    "# get a summary of the numerical attributes\n",
    "yacht.describe().round(3)"
   ]
  },
  {
   "cell_type": "markdown",
   "metadata": {},
   "source": [
    "The std row shows the standard deviation, which measures how dispersed the values are.\n",
    "\n",
    "The 25%, 50% and 75% rows show the corresponding percentiles, which indicate the values below which a given percentage of observations in a group of observations fall. \n",
    "\n",
    "For example, 50% of the hull forms have the residuary resistance lower than 3.065, while the max value is 62.42."
   ]
  },
  {
   "cell_type": "code",
   "execution_count": 12,
   "metadata": {},
   "outputs": [
    {
     "data": {
      "text/plain": [
       "array([[<AxesSubplot:title={'center':'Centre_of_Buoyancy'}>,\n",
       "        <AxesSubplot:title={'center':'Prismatic_Coefficient'}>,\n",
       "        <AxesSubplot:title={'center':'Length/Displacement_Ratio'}>],\n",
       "       [<AxesSubplot:title={'center':'Beam/Draft_Ratio'}>,\n",
       "        <AxesSubplot:title={'center':'Length/Beam_Ratio'}>,\n",
       "        <AxesSubplot:title={'center':'Froude_Number'}>],\n",
       "       [<AxesSubplot:title={'center':'Residuary_Resistance'}>,\n",
       "        <AxesSubplot:>, <AxesSubplot:>]], dtype=object)"
      ]
     },
     "execution_count": 12,
     "metadata": {},
     "output_type": "execute_result"
    },
    {
     "data": {
      "image/png": "[encoded data removed]",
      "text/plain": [
       "<Figure size 1080x720 with 9 Axes>"
      ]
     },
     "metadata": {
      "needs_background": "light"
     },
     "output_type": "display_data"
    }
   ],
   "source": [
    "%matplotlib inline\n",
    "import matplotlib as mpl\n",
    "import matplotlib.pyplot as plt\n",
    "\n",
    "plt.rc(\"font\", size=14)\n",
    "mpl.rc(\"axes\", labelsize=14, titlesize=14)\n",
    "mpl.rc(\"xtick\", labelsize=12)\n",
    "mpl.rc(\"ytick\", labelsize=12)\n",
    "\n",
    "# for each attribute, show the number of instances (on the vertical axis) that have a given value range (on the horizontal axis)\n",
    "yacht.hist(bins=3, figsize=(15, 10))"
   ]
  },
  {
   "cell_type": "code",
   "execution_count": 13,
   "metadata": {},
   "outputs": [
    {
     "data": {
      "text/plain": [
       "<seaborn.axisgrid.PairGrid at 0x1e273bf20a0>"
      ]
     },
     "execution_count": 13,
     "metadata": {},
     "output_type": "execute_result"
    },
    {
     "data": {
      "image/png": "[encoded data removed]",
      "text/plain": [
       "<Figure size 1260x1260 with 56 Axes>"
      ]
     },
     "metadata": {
      "needs_background": "light"
     },
     "output_type": "display_data"
    }
   ],
   "source": [
    "import seaborn as sns\n",
    "\n",
    "# get an intuition of potential correlations\n",
    "sns.pairplot(yacht)"
   ]
  },
  {
   "cell_type": "code",
   "execution_count": 14,
   "metadata": {},
   "outputs": [
    {
     "data": {
      "text/plain": [
       "<AxesSubplot:xlabel='Froude_Number', ylabel='Residuary_Resistance'>"
      ]
     },
     "execution_count": 14,
     "metadata": {},
     "output_type": "execute_result"
    },
    {
     "data": {
      "image/png": "[encoded data removed]",
      "text/plain": [
       "<Figure size 432x288 with 1 Axes>"
      ]
     },
     "metadata": {
      "needs_background": "light"
     },
     "output_type": "display_data"
    }
   ],
   "source": [
    "yacht.plot(kind=\"scatter\", x=\"Froude_Number\", y=\"Residuary_Resistance\")"
   ]
  },
  {
   "cell_type": "markdown",
   "metadata": {},
   "source": [
    "**The residuary resistance grows eponentially with increase of the velocity.**"
   ]
  },
  {
   "cell_type": "markdown",
   "metadata": {},
   "source": [
    "## Create a Test Set"
   ]
  },
  {
   "cell_type": "markdown",
   "metadata": {},
   "source": [
    "Create homogeneous subgroups called strata from the overall population and sample the right number of instances to each stratum to ensure that the test set is representative of the overall population."
   ]
  },
  {
   "cell_type": "code",
   "execution_count": 15,
   "metadata": {},
   "outputs": [
    {
     "data": {
      "text/plain": [
       "4.78    0.409091\n",
       "5.10    0.181818\n",
       "4.34    0.136364\n",
       "4.77    0.090909\n",
       "4.36    0.045455\n",
       "5.14    0.045455\n",
       "5.11    0.045455\n",
       "4.76    0.045455\n",
       "Name: Length/Displacement_Ratio, dtype: float64"
      ]
     },
     "execution_count": 15,
     "metadata": {},
     "output_type": "execute_result"
    }
   ],
   "source": [
    "yacht[\"Length/Displacement_Ratio\"].value_counts() / len(yacht)"
   ]
  },
  {
   "cell_type": "code",
   "execution_count": 16,
   "metadata": {},
   "outputs": [],
   "source": [
    "from sklearn.model_selection import StratifiedShuffleSplit\n",
    "\n",
    "# stratified sampling based on the length/displacement ratio\n",
    "split = StratifiedShuffleSplit(n_splits=1, test_size=0.2, random_state=42)\n",
    "for train_index, test_index in split.split(yacht, yacht[\"Length/Displacement_Ratio\"]):\n",
    "    strat_train_set = yacht.loc[train_index]\n",
    "    strat_test_set = yacht.loc[test_index]"
   ]
  },
  {
   "cell_type": "code",
   "execution_count": 17,
   "metadata": {},
   "outputs": [
    {
     "data": {
      "text/plain": [
       "4.78    0.410569\n",
       "5.10    0.182927\n",
       "4.34    0.138211\n",
       "4.77    0.089431\n",
       "5.14    0.044715\n",
       "4.36    0.044715\n",
       "5.11    0.044715\n",
       "4.76    0.044715\n",
       "Name: Length/Displacement_Ratio, dtype: float64"
      ]
     },
     "execution_count": 17,
     "metadata": {},
     "output_type": "execute_result"
    }
   ],
   "source": [
    "# check for the distribution in the training set\n",
    "strat_train_set[\"Length/Displacement_Ratio\"].value_counts() / len(strat_train_set)"
   ]
  },
  {
   "cell_type": "code",
   "execution_count": 18,
   "metadata": {},
   "outputs": [
    {
     "data": {
      "text/plain": [
       "4.78    0.403226\n",
       "5.10    0.177419\n",
       "4.34    0.129032\n",
       "4.77    0.096774\n",
       "4.76    0.048387\n",
       "5.14    0.048387\n",
       "5.11    0.048387\n",
       "4.36    0.048387\n",
       "Name: Length/Displacement_Ratio, dtype: float64"
      ]
     },
     "execution_count": 18,
     "metadata": {},
     "output_type": "execute_result"
    }
   ],
   "source": [
    "# check for the distribution in the test set\n",
    "strat_test_set[\"Length/Displacement_Ratio\"].value_counts() / len(strat_test_set)"
   ]
  },
  {
   "cell_type": "markdown",
   "metadata": {},
   "source": [
    "## Data Correlations"
   ]
  },
  {
   "cell_type": "code",
   "execution_count": 19,
   "metadata": {},
   "outputs": [],
   "source": [
    "yacht = strat_train_set.copy()"
   ]
  },
  {
   "cell_type": "code",
   "execution_count": 20,
   "metadata": {},
   "outputs": [
    {
     "data": {
      "image/png": "[encoded data removed]",
      "text/plain": [
       "<Figure size 1152x1152 with 2 Axes>"
      ]
     },
     "metadata": {
      "needs_background": "light"
     },
     "output_type": "display_data"
    }
   ],
   "source": [
    "# get correlations of each features in the dataset\n",
    "corrmat = yacht.corr()\n",
    "top_corr_features = corrmat.index\n",
    "plt.figure(figsize=(16, 16))\n",
    "\n",
    "# plot heat map\n",
    "g=sns.heatmap(yacht[top_corr_features].corr(), annot=True, cmap=\"mako\")"
   ]
  },
  {
   "cell_type": "code",
   "execution_count": 21,
   "metadata": {},
   "outputs": [
    {
     "data": {
      "text/plain": [
       "Residuary_Resistance         1.000000\n",
       "Froude_Number                0.815643\n",
       "Centre_of_Buoyancy           0.048240\n",
       "Beam/Draft_Ratio            -0.005433\n",
       "Length/Displacement_Ratio   -0.011558\n",
       "Length/Beam_Ratio           -0.026334\n",
       "Prismatic_Coefficient       -0.056833\n",
       "Name: Residuary_Resistance, dtype: float64"
      ]
     },
     "execution_count": 21,
     "metadata": {},
     "output_type": "execute_result"
    }
   ],
   "source": [
    "corr_matrix = yacht.corr()\n",
    "\n",
    "corr_matrix[\"Residuary_Resistance\"].sort_values(ascending=False)"
   ]
  },
  {
   "cell_type": "markdown",
   "metadata": {},
   "source": [
    "## Test New Attributes"
   ]
  },
  {
   "attachments": {},
   "cell_type": "markdown",
   "metadata": {},
   "source": [
    "1. Centre_of_Buoyancy/Froude_Number\n",
    "2. Prismatic_Coefficient/Froude_Number\n",
    "3. Length_Displacement_Ratio/Froude_Number\n",
    "4. Length_Beam_Ratio/Froude_Number\n",
    "5. Beam_Draft_Ratio/Froude_Number"
   ]
  },
  {
   "cell_type": "code",
   "execution_count": 22,
   "metadata": {},
   "outputs": [],
   "source": [
    "yacht[\"Centre_of_Buoyancy/Froude_Number\"] = yacht[\"Centre_of_Buoyancy\"] / yacht[\"Froude_Number\"]\n",
    "yacht[\"Prismatic_Coefficient/Froude_Number\"] = yacht[\"Prismatic_Coefficient\"] / yacht[\"Froude_Number\"]\n",
    "yacht[\"Length_Displacement_Ratio/Froude_Number\"] = yacht[\"Length/Displacement_Ratio\"] / yacht[\"Froude_Number\"]\n",
    "yacht[\"Length_Beam_Ratio/Froude_Number\"] = yacht[\"Length/Beam_Ratio\"] / yacht[\"Froude_Number\"]\n",
    "yacht[\"Beam_Draft_Ratio/Froude_Number\"] = yacht[\"Beam/Draft_Ratio\"] / yacht[\"Froude_Number\"]"
   ]
  },
  {
   "cell_type": "code",
   "execution_count": 23,
   "metadata": {},
   "outputs": [
    {
     "data": {
      "text/html": [
       "<div>\n",
       "<style scoped>\n",
       "    .dataframe tbody tr th:only-of-type {\n",
       "        vertical-align: middle;\n",
       "    }\n",
       "\n",
       "    .dataframe tbody tr th {\n",
       "        vertical-align: top;\n",
       "    }\n",
       "\n",
       "    .dataframe thead th {\n",
       "        text-align: right;\n",
       "    }\n",
       "</style>\n",
       "<table border=\"1\" class=\"dataframe\">\n",
       "  <thead>\n",
       "    <tr style=\"text-align: right;\">\n",
       "      <th></th>\n",
       "      <th>Centre_of_Buoyancy</th>\n",
       "      <th>Prismatic_Coefficient</th>\n",
       "      <th>Length/Displacement_Ratio</th>\n",
       "      <th>Beam/Draft_Ratio</th>\n",
       "      <th>Length/Beam_Ratio</th>\n",
       "      <th>Froude_Number</th>\n",
       "      <th>Residuary_Resistance</th>\n",
       "      <th>Centre_of_Buoyancy/Froude_Number</th>\n",
       "      <th>Prismatic_Coefficient/Froude_Number</th>\n",
       "      <th>Length_Displacement_Ratio/Froude_Number</th>\n",
       "      <th>Length_Beam_Ratio/Froude_Number</th>\n",
       "      <th>Beam_Draft_Ratio/Froude_Number</th>\n",
       "    </tr>\n",
       "  </thead>\n",
       "  <tbody>\n",
       "    <tr>\n",
       "      <th>8</th>\n",
       "      <td>-2.3</td>\n",
       "      <td>0.568</td>\n",
       "      <td>4.78</td>\n",
       "      <td>3.99</td>\n",
       "      <td>3.17</td>\n",
       "      <td>0.325</td>\n",
       "      <td>4.99</td>\n",
       "      <td>-7.076923</td>\n",
       "      <td>1.747692</td>\n",
       "      <td>14.707692</td>\n",
       "      <td>9.753846</td>\n",
       "      <td>12.276923</td>\n",
       "    </tr>\n",
       "    <tr>\n",
       "      <th>9</th>\n",
       "      <td>-2.3</td>\n",
       "      <td>0.568</td>\n",
       "      <td>4.78</td>\n",
       "      <td>3.99</td>\n",
       "      <td>3.17</td>\n",
       "      <td>0.350</td>\n",
       "      <td>7.16</td>\n",
       "      <td>-6.571429</td>\n",
       "      <td>1.622857</td>\n",
       "      <td>13.657143</td>\n",
       "      <td>9.057143</td>\n",
       "      <td>11.400000</td>\n",
       "    </tr>\n",
       "    <tr>\n",
       "      <th>96</th>\n",
       "      <td>-2.3</td>\n",
       "      <td>0.562</td>\n",
       "      <td>5.14</td>\n",
       "      <td>4.95</td>\n",
       "      <td>3.17</td>\n",
       "      <td>0.425</td>\n",
       "      <td>32.34</td>\n",
       "      <td>-5.411765</td>\n",
       "      <td>1.322353</td>\n",
       "      <td>12.094118</td>\n",
       "      <td>7.458824</td>\n",
       "      <td>11.647059</td>\n",
       "    </tr>\n",
       "    <tr>\n",
       "      <th>39</th>\n",
       "      <td>-2.3</td>\n",
       "      <td>0.565</td>\n",
       "      <td>4.78</td>\n",
       "      <td>5.35</td>\n",
       "      <td>2.76</td>\n",
       "      <td>0.400</td>\n",
       "      <td>21.40</td>\n",
       "      <td>-5.750000</td>\n",
       "      <td>1.412500</td>\n",
       "      <td>11.950000</td>\n",
       "      <td>6.900000</td>\n",
       "      <td>13.375000</td>\n",
       "    </tr>\n",
       "    <tr>\n",
       "      <th>262</th>\n",
       "      <td>0.0</td>\n",
       "      <td>0.530</td>\n",
       "      <td>4.78</td>\n",
       "      <td>3.75</td>\n",
       "      <td>3.15</td>\n",
       "      <td>0.375</td>\n",
       "      <td>16.31</td>\n",
       "      <td>0.000000</td>\n",
       "      <td>1.413333</td>\n",
       "      <td>12.746667</td>\n",
       "      <td>8.400000</td>\n",
       "      <td>10.000000</td>\n",
       "    </tr>\n",
       "  </tbody>\n",
       "</table>\n",
       "</div>"
      ],
      "text/plain": [
       "     Centre_of_Buoyancy  Prismatic_Coefficient  Length/Displacement_Ratio  \\\n",
       "8                  -2.3                  0.568                       4.78   \n",
       "9                  -2.3                  0.568                       4.78   \n",
       "96                 -2.3                  0.562                       5.14   \n",
       "39                 -2.3                  0.565                       4.78   \n",
       "262                 0.0                  0.530                       4.78   \n",
       "\n",
       "     Beam/Draft_Ratio  Length/Beam_Ratio  Froude_Number  Residuary_Resistance  \\\n",
       "8                3.99               3.17          0.325                  4.99   \n",
       "9                3.99               3.17          0.350                  7.16   \n",
       "96               4.95               3.17          0.425                 32.34   \n",
       "39               5.35               2.76          0.400                 21.40   \n",
       "262              3.75               3.15          0.375                 16.31   \n",
       "\n",
       "     Centre_of_Buoyancy/Froude_Number  Prismatic_Coefficient/Froude_Number  \\\n",
       "8                           -7.076923                             1.747692   \n",
       "9                           -6.571429                             1.622857   \n",
       "96                          -5.411765                             1.322353   \n",
       "39                          -5.750000                             1.412500   \n",
       "262                          0.000000                             1.413333   \n",
       "\n",
       "     Length_Displacement_Ratio/Froude_Number  Length_Beam_Ratio/Froude_Number  \\\n",
       "8                                  14.707692                         9.753846   \n",
       "9                                  13.657143                         9.057143   \n",
       "96                                 12.094118                         7.458824   \n",
       "39                                 11.950000                         6.900000   \n",
       "262                                12.746667                         8.400000   \n",
       "\n",
       "     Beam_Draft_Ratio/Froude_Number  \n",
       "8                         12.276923  \n",
       "9                         11.400000  \n",
       "96                        11.647059  \n",
       "39                        13.375000  \n",
       "262                       10.000000  "
      ]
     },
     "execution_count": 23,
     "metadata": {},
     "output_type": "execute_result"
    }
   ],
   "source": [
    "yacht.head()"
   ]
  },
  {
   "cell_type": "code",
   "execution_count": 24,
   "metadata": {},
   "outputs": [
    {
     "data": {
      "text/plain": [
       "0"
      ]
     },
     "execution_count": 24,
     "metadata": {},
     "output_type": "execute_result"
    }
   ],
   "source": [
    "import numpy as np\n",
    "\n",
    "np.isinf(yacht).values.sum()"
   ]
  },
  {
   "cell_type": "code",
   "execution_count": 25,
   "metadata": {},
   "outputs": [
    {
     "data": {
      "text/plain": [
       "Residuary_Resistance                       1.000000\n",
       "Froude_Number                              0.815643\n",
       "Centre_of_Buoyancy/Froude_Number           0.354648\n",
       "Centre_of_Buoyancy                         0.048240\n",
       "Beam/Draft_Ratio                          -0.005433\n",
       "Length/Displacement_Ratio                 -0.011558\n",
       "Length/Beam_Ratio                         -0.026334\n",
       "Prismatic_Coefficient                     -0.056833\n",
       "Beam_Draft_Ratio/Froude_Number            -0.584934\n",
       "Length_Beam_Ratio/Froude_Number           -0.609268\n",
       "Length_Displacement_Ratio/Froude_Number   -0.613812\n",
       "Prismatic_Coefficient/Froude_Number       -0.622585\n",
       "Name: Residuary_Resistance, dtype: float64"
      ]
     },
     "execution_count": 25,
     "metadata": {},
     "output_type": "execute_result"
    }
   ],
   "source": [
    "corr_matrix = yacht.corr()\n",
    "\n",
    "corr_matrix[\"Residuary_Resistance\"].sort_values(ascending=False)"
   ]
  },
  {
   "cell_type": "markdown",
   "metadata": {},
   "source": [
    "# 4. Prepare the Data for ML Algorithms\n",
    "\n",
    "1. Clean the data\n",
    "2. Add new attributes\n",
    "3. Scale the data\n",
    "3. Set up a transformation pipeline"
   ]
  },
  {
   "cell_type": "code",
   "execution_count": 26,
   "metadata": {},
   "outputs": [],
   "source": [
    "yacht = strat_train_set.drop(\"Residuary_Resistance\", axis=1)\n",
    "yacht_labels = strat_train_set[\"Residuary_Resistance\"].copy()"
   ]
  },
  {
   "cell_type": "markdown",
   "metadata": {},
   "source": [
    "## Data Cleaning"
   ]
  },
  {
   "cell_type": "code",
   "execution_count": 27,
   "metadata": {},
   "outputs": [
    {
     "data": {
      "text/plain": [
       "SimpleImputer(strategy='median')"
      ]
     },
     "execution_count": 27,
     "metadata": {},
     "output_type": "execute_result"
    }
   ],
   "source": [
    "from sklearn.impute import SimpleImputer\n",
    "\n",
    "imputer = SimpleImputer(strategy=\"median\")\n",
    "imputer.fit(yacht)"
   ]
  },
  {
   "cell_type": "code",
   "execution_count": 28,
   "metadata": {},
   "outputs": [
    {
     "data": {
      "text/plain": [
       "array([-2.3  ,  0.565,  4.78 ,  3.955,  3.15 ,  0.3  ])"
      ]
     },
     "execution_count": 28,
     "metadata": {},
     "output_type": "execute_result"
    }
   ],
   "source": [
    "# median of each column\n",
    "imputer.statistics_"
   ]
  },
  {
   "cell_type": "code",
   "execution_count": 29,
   "metadata": {},
   "outputs": [
    {
     "data": {
      "text/plain": [
       "array([-2.3  ,  0.565,  4.78 ,  3.955,  3.15 ,  0.3  ])"
      ]
     },
     "execution_count": 29,
     "metadata": {},
     "output_type": "execute_result"
    }
   ],
   "source": [
    "yacht.median().values"
   ]
  },
  {
   "cell_type": "code",
   "execution_count": 30,
   "metadata": {},
   "outputs": [
    {
     "data": {
      "text/plain": [
       "array([[-2.3  ,  0.568,  4.78 ,  3.99 ,  3.17 ,  0.325],\n",
       "       [-2.3  ,  0.568,  4.78 ,  3.99 ,  3.17 ,  0.35 ],\n",
       "       [-2.3  ,  0.562,  5.14 ,  4.95 ,  3.17 ,  0.425],\n",
       "       ...,\n",
       "       [-2.3  ,  0.53 ,  5.11 ,  3.69 ,  3.51 ,  0.275],\n",
       "       [ 0.   ,  0.6  ,  4.78 ,  4.24 ,  3.15 ,  0.3  ],\n",
       "       [-2.3  ,  0.564,  5.1  ,  3.95 ,  3.53 ,  0.425]])"
      ]
     },
     "execution_count": 30,
     "metadata": {},
     "output_type": "execute_result"
    }
   ],
   "source": [
    "# impute the missing values with the medians\n",
    "imputer.transform(yacht)"
   ]
  },
  {
   "cell_type": "markdown",
   "metadata": {},
   "source": [
    "## Attribute Addition"
   ]
  },
  {
   "cell_type": "code",
   "execution_count": 31,
   "metadata": {},
   "outputs": [
    {
     "data": {
      "text/plain": [
       "(0, 1, 2, 3, 4, 5)"
      ]
     },
     "execution_count": 31,
     "metadata": {},
     "output_type": "execute_result"
    }
   ],
   "source": [
    "# get the column indices\n",
    "Centre_of_Buoyancy_ix, Prismatic_Coefficient_ix, Length_Displacement_Ratio_ix, Beam_Draft_Ratio_ix, Length_Beam_Ratio_ix, Froude_Number_ix = [yacht.columns.get_loc(c) for c in yacht.columns]\n",
    "Centre_of_Buoyancy_ix, Prismatic_Coefficient_ix, Length_Displacement_Ratio_ix, Beam_Draft_Ratio_ix, Length_Beam_Ratio_ix, Froude_Number_ix"
   ]
  },
  {
   "cell_type": "code",
   "execution_count": 32,
   "metadata": {},
   "outputs": [],
   "source": [
    "from sklearn.base import BaseEstimator, TransformerMixin\n",
    "import numpy as np\n",
    "\n",
    "class AttributeAdder(BaseEstimator, TransformerMixin):\n",
    "    def __init__(self, add_Dim_Fn_ratio=False):\n",
    "        self.add_Dim_Fn_ratio = add_Dim_Fn_ratio\n",
    "    \n",
    "    def fit(self, X, y=None):\n",
    "        return self\n",
    "    \n",
    "    def transform(self, X):\n",
    "        Lbc_Fn_ratio = X[:, Centre_of_Buoyancy_ix] / X[:, Froude_Number_ix] \n",
    "        Cp_Fn_ratio = X[:, Prismatic_Coefficient_ix] / X[:, Froude_Number_ix] \n",
    "        if self.add_Dim_Fn_ratio:\n",
    "            LD_Fn_ratio = X[:, Length_Displacement_Ratio_ix] / X[:, Froude_Number_ix]\n",
    "            LB_Fn_ratio = X[:, Length_Beam_Ratio_ix] / X[:, Froude_Number_ix]\n",
    "            BT_Fn_ratio = X[:, Beam_Draft_Ratio_ix] / X[:, Froude_Number_ix]\n",
    "            return np.c_[X, Lbc_Fn_ratio, Cp_Fn_ratio, LD_Fn_ratio, LB_Fn_ratio, BT_Fn_ratio]\n",
    "        else:\n",
    "            return np.c_[X, Lbc_Fn_ratio, Cp_Fn_ratio]"
   ]
  },
  {
   "cell_type": "code",
   "execution_count": 33,
   "metadata": {},
   "outputs": [
    {
     "data": {
      "text/plain": [
       "Index(['Centre_of_Buoyancy', 'Prismatic_Coefficient',\n",
       "       'Length/Displacement_Ratio', 'Beam/Draft_Ratio', 'Length/Beam_Ratio',\n",
       "       'Froude_Number'],\n",
       "      dtype='object')"
      ]
     },
     "execution_count": 33,
     "metadata": {},
     "output_type": "execute_result"
    }
   ],
   "source": [
    "yacht.columns"
   ]
  },
  {
   "cell_type": "code",
   "execution_count": 34,
   "metadata": {},
   "outputs": [
    {
     "data": {
      "text/plain": [
       "['Centre_of_Buoyancy',\n",
       " 'Prismatic_Coefficient',\n",
       " 'Length/Displacement_Ratio',\n",
       " 'Beam/Draft_Ratio',\n",
       " 'Length/Beam_Ratio',\n",
       " 'Froude_Number']"
      ]
     },
     "execution_count": 34,
     "metadata": {},
     "output_type": "execute_result"
    }
   ],
   "source": [
    "list(yacht.columns)"
   ]
  },
  {
   "cell_type": "code",
   "execution_count": 35,
   "metadata": {},
   "outputs": [
    {
     "data": {
      "text/html": [
       "<div>\n",
       "<style scoped>\n",
       "    .dataframe tbody tr th:only-of-type {\n",
       "        vertical-align: middle;\n",
       "    }\n",
       "\n",
       "    .dataframe tbody tr th {\n",
       "        vertical-align: top;\n",
       "    }\n",
       "\n",
       "    .dataframe thead th {\n",
       "        text-align: right;\n",
       "    }\n",
       "</style>\n",
       "<table border=\"1\" class=\"dataframe\">\n",
       "  <thead>\n",
       "    <tr style=\"text-align: right;\">\n",
       "      <th></th>\n",
       "      <th>Centre_of_Buoyancy</th>\n",
       "      <th>Prismatic_Coefficient</th>\n",
       "      <th>Length/Displacement_Ratio</th>\n",
       "      <th>Beam/Draft_Ratio</th>\n",
       "      <th>Length/Beam_Ratio</th>\n",
       "      <th>Froude_Number</th>\n",
       "      <th>Centre_of_Buoyancy/Froude_Number</th>\n",
       "      <th>Prismatic_Coefficient/Froude_Number</th>\n",
       "    </tr>\n",
       "  </thead>\n",
       "  <tbody>\n",
       "    <tr>\n",
       "      <th>8</th>\n",
       "      <td>-2.3</td>\n",
       "      <td>0.568</td>\n",
       "      <td>4.78</td>\n",
       "      <td>3.99</td>\n",
       "      <td>3.17</td>\n",
       "      <td>0.325</td>\n",
       "      <td>-7.076923</td>\n",
       "      <td>1.747692</td>\n",
       "    </tr>\n",
       "    <tr>\n",
       "      <th>9</th>\n",
       "      <td>-2.3</td>\n",
       "      <td>0.568</td>\n",
       "      <td>4.78</td>\n",
       "      <td>3.99</td>\n",
       "      <td>3.17</td>\n",
       "      <td>0.350</td>\n",
       "      <td>-6.571429</td>\n",
       "      <td>1.622857</td>\n",
       "    </tr>\n",
       "    <tr>\n",
       "      <th>96</th>\n",
       "      <td>-2.3</td>\n",
       "      <td>0.562</td>\n",
       "      <td>5.14</td>\n",
       "      <td>4.95</td>\n",
       "      <td>3.17</td>\n",
       "      <td>0.425</td>\n",
       "      <td>-5.411765</td>\n",
       "      <td>1.322353</td>\n",
       "    </tr>\n",
       "    <tr>\n",
       "      <th>39</th>\n",
       "      <td>-2.3</td>\n",
       "      <td>0.565</td>\n",
       "      <td>4.78</td>\n",
       "      <td>5.35</td>\n",
       "      <td>2.76</td>\n",
       "      <td>0.400</td>\n",
       "      <td>-5.750000</td>\n",
       "      <td>1.412500</td>\n",
       "    </tr>\n",
       "    <tr>\n",
       "      <th>262</th>\n",
       "      <td>0.0</td>\n",
       "      <td>0.530</td>\n",
       "      <td>4.78</td>\n",
       "      <td>3.75</td>\n",
       "      <td>3.15</td>\n",
       "      <td>0.375</td>\n",
       "      <td>0.000000</td>\n",
       "      <td>1.413333</td>\n",
       "    </tr>\n",
       "  </tbody>\n",
       "</table>\n",
       "</div>"
      ],
      "text/plain": [
       "     Centre_of_Buoyancy  Prismatic_Coefficient  Length/Displacement_Ratio  \\\n",
       "8                  -2.3                  0.568                       4.78   \n",
       "9                  -2.3                  0.568                       4.78   \n",
       "96                 -2.3                  0.562                       5.14   \n",
       "39                 -2.3                  0.565                       4.78   \n",
       "262                 0.0                  0.530                       4.78   \n",
       "\n",
       "     Beam/Draft_Ratio  Length/Beam_Ratio  Froude_Number  \\\n",
       "8                3.99               3.17          0.325   \n",
       "9                3.99               3.17          0.350   \n",
       "96               4.95               3.17          0.425   \n",
       "39               5.35               2.76          0.400   \n",
       "262              3.75               3.15          0.375   \n",
       "\n",
       "     Centre_of_Buoyancy/Froude_Number  Prismatic_Coefficient/Froude_Number  \n",
       "8                           -7.076923                             1.747692  \n",
       "9                           -6.571429                             1.622857  \n",
       "96                          -5.411765                             1.322353  \n",
       "39                          -5.750000                             1.412500  \n",
       "262                          0.000000                             1.413333  "
      ]
     },
     "execution_count": 35,
     "metadata": {},
     "output_type": "execute_result"
    }
   ],
   "source": [
    "attribute_adder = AttributeAdder(add_Dim_Fn_ratio=False)\n",
    "yacht_extra_attr = attribute_adder.transform(yacht.values)\n",
    "\n",
    "# if add_Dim_Fn_ratio = False\n",
    "col1 = [\"Centre_of_Buoyancy/Froude_Number\", \"Prismatic_Coefficient/Froude_Number\", \"Length_Displacement_Ratio/Froude_Number\",\n",
    "        \"Length_Beam_Ratio/Froude_Number\", \"Beam_Draft_Ratio/Froude_Number\"] \n",
    "\n",
    "# id add_Dim_Fn_ratio = True\n",
    "col2 = [\"Centre_of_Buoyancy/Froude_Number\", \"Prismatic_Coefficient/Froude_Number\"]\n",
    "\n",
    "yacht_extra_attr = pd.DataFrame(yacht_extra_attr, columns=list(yacht.columns)+col2, index=yacht.index)\n",
    "\n",
    "yacht_extra_attr.head()"
   ]
  },
  {
   "cell_type": "code",
   "execution_count": 36,
   "metadata": {},
   "outputs": [
    {
     "data": {
      "text/html": [
       "<div>\n",
       "<style scoped>\n",
       "    .dataframe tbody tr th:only-of-type {\n",
       "        vertical-align: middle;\n",
       "    }\n",
       "\n",
       "    .dataframe tbody tr th {\n",
       "        vertical-align: top;\n",
       "    }\n",
       "\n",
       "    .dataframe thead th {\n",
       "        text-align: right;\n",
       "    }\n",
       "</style>\n",
       "<table border=\"1\" class=\"dataframe\">\n",
       "  <thead>\n",
       "    <tr style=\"text-align: right;\">\n",
       "      <th></th>\n",
       "      <th>Centre_of_Buoyancy</th>\n",
       "      <th>Prismatic_Coefficient</th>\n",
       "      <th>Length/Displacement_Ratio</th>\n",
       "      <th>Beam/Draft_Ratio</th>\n",
       "      <th>Length/Beam_Ratio</th>\n",
       "      <th>Froude_Number</th>\n",
       "      <th>Centre_of_Buoyancy/Froude_Number</th>\n",
       "      <th>Prismatic_Coefficient/Froude_Number</th>\n",
       "    </tr>\n",
       "  </thead>\n",
       "  <tbody>\n",
       "    <tr>\n",
       "      <th>count</th>\n",
       "      <td>246.00</td>\n",
       "      <td>246.00</td>\n",
       "      <td>246.00</td>\n",
       "      <td>246.00</td>\n",
       "      <td>246.00</td>\n",
       "      <td>246.00</td>\n",
       "      <td>246.00</td>\n",
       "      <td>246.00</td>\n",
       "    </tr>\n",
       "    <tr>\n",
       "      <th>mean</th>\n",
       "      <td>-2.41</td>\n",
       "      <td>0.57</td>\n",
       "      <td>4.79</td>\n",
       "      <td>3.93</td>\n",
       "      <td>3.21</td>\n",
       "      <td>0.29</td>\n",
       "      <td>-9.71</td>\n",
       "      <td>2.27</td>\n",
       "    </tr>\n",
       "    <tr>\n",
       "      <th>std</th>\n",
       "      <td>1.51</td>\n",
       "      <td>0.02</td>\n",
       "      <td>0.25</td>\n",
       "      <td>0.54</td>\n",
       "      <td>0.25</td>\n",
       "      <td>0.10</td>\n",
       "      <td>7.81</td>\n",
       "      <td>0.98</td>\n",
       "    </tr>\n",
       "    <tr>\n",
       "      <th>min</th>\n",
       "      <td>-5.00</td>\n",
       "      <td>0.53</td>\n",
       "      <td>4.34</td>\n",
       "      <td>2.81</td>\n",
       "      <td>2.73</td>\n",
       "      <td>0.12</td>\n",
       "      <td>-40.00</td>\n",
       "      <td>1.18</td>\n",
       "    </tr>\n",
       "    <tr>\n",
       "      <th>25%</th>\n",
       "      <td>-2.40</td>\n",
       "      <td>0.55</td>\n",
       "      <td>4.77</td>\n",
       "      <td>3.75</td>\n",
       "      <td>3.15</td>\n",
       "      <td>0.20</td>\n",
       "      <td>-13.33</td>\n",
       "      <td>1.50</td>\n",
       "    </tr>\n",
       "    <tr>\n",
       "      <th>50%</th>\n",
       "      <td>-2.30</td>\n",
       "      <td>0.56</td>\n",
       "      <td>4.78</td>\n",
       "      <td>3.96</td>\n",
       "      <td>3.15</td>\n",
       "      <td>0.30</td>\n",
       "      <td>-8.00</td>\n",
       "      <td>1.93</td>\n",
       "    </tr>\n",
       "    <tr>\n",
       "      <th>75%</th>\n",
       "      <td>-2.30</td>\n",
       "      <td>0.57</td>\n",
       "      <td>5.10</td>\n",
       "      <td>4.17</td>\n",
       "      <td>3.51</td>\n",
       "      <td>0.38</td>\n",
       "      <td>-5.41</td>\n",
       "      <td>2.84</td>\n",
       "    </tr>\n",
       "    <tr>\n",
       "      <th>max</th>\n",
       "      <td>0.00</td>\n",
       "      <td>0.60</td>\n",
       "      <td>5.14</td>\n",
       "      <td>5.35</td>\n",
       "      <td>3.64</td>\n",
       "      <td>0.45</td>\n",
       "      <td>0.00</td>\n",
       "      <td>4.80</td>\n",
       "    </tr>\n",
       "  </tbody>\n",
       "</table>\n",
       "</div>"
      ],
      "text/plain": [
       "       Centre_of_Buoyancy  Prismatic_Coefficient  Length/Displacement_Ratio  \\\n",
       "count              246.00                 246.00                     246.00   \n",
       "mean                -2.41                   0.57                       4.79   \n",
       "std                  1.51                   0.02                       0.25   \n",
       "min                 -5.00                   0.53                       4.34   \n",
       "25%                 -2.40                   0.55                       4.77   \n",
       "50%                 -2.30                   0.56                       4.78   \n",
       "75%                 -2.30                   0.57                       5.10   \n",
       "max                  0.00                   0.60                       5.14   \n",
       "\n",
       "       Beam/Draft_Ratio  Length/Beam_Ratio  Froude_Number  \\\n",
       "count            246.00             246.00         246.00   \n",
       "mean               3.93               3.21           0.29   \n",
       "std                0.54               0.25           0.10   \n",
       "min                2.81               2.73           0.12   \n",
       "25%                3.75               3.15           0.20   \n",
       "50%                3.96               3.15           0.30   \n",
       "75%                4.17               3.51           0.38   \n",
       "max                5.35               3.64           0.45   \n",
       "\n",
       "       Centre_of_Buoyancy/Froude_Number  Prismatic_Coefficient/Froude_Number  \n",
       "count                            246.00                               246.00  \n",
       "mean                              -9.71                                 2.27  \n",
       "std                                7.81                                 0.98  \n",
       "min                              -40.00                                 1.18  \n",
       "25%                              -13.33                                 1.50  \n",
       "50%                               -8.00                                 1.93  \n",
       "75%                               -5.41                                 2.84  \n",
       "max                                0.00                                 4.80  "
      ]
     },
     "execution_count": 36,
     "metadata": {},
     "output_type": "execute_result"
    }
   ],
   "source": [
    "yacht_extra_attr.describe().round(2)"
   ]
  },
  {
   "cell_type": "markdown",
   "metadata": {},
   "source": [
    "## Data Scaling"
   ]
  },
  {
   "cell_type": "code",
   "execution_count": 37,
   "metadata": {},
   "outputs": [
    {
     "data": {
      "text/plain": [
       "StandardScaler()"
      ]
     },
     "execution_count": 37,
     "metadata": {},
     "output_type": "execute_result"
    }
   ],
   "source": [
    "from sklearn.preprocessing import StandardScaler\n",
    "\n",
    "scaler = StandardScaler()\n",
    "scaler.fit(yacht_extra_attr)"
   ]
  },
  {
   "cell_type": "code",
   "execution_count": 38,
   "metadata": {},
   "outputs": [
    {
     "data": {
      "text/plain": [
       "array([-2.41219512,  0.56516667,  4.78800813,  3.93069106,  3.21162602,\n",
       "        0.29004065, -9.71286757,  2.27388254])"
      ]
     },
     "execution_count": 38,
     "metadata": {},
     "output_type": "execute_result"
    }
   ],
   "source": [
    "scaler.mean_"
   ]
  },
  {
   "cell_type": "code",
   "execution_count": 39,
   "metadata": {},
   "outputs": [
    {
     "data": {
      "text/plain": [
       "array([1.50905588, 0.02331946, 0.25299124, 0.54128642, 0.24996869,\n",
       "       0.10296616, 7.78959106, 0.97900098])"
      ]
     },
     "execution_count": 39,
     "metadata": {},
     "output_type": "execute_result"
    }
   ],
   "source": [
    "scaler.scale_"
   ]
  },
  {
   "cell_type": "code",
   "execution_count": 40,
   "metadata": {},
   "outputs": [
    {
     "data": {
      "text/html": [
       "<div>\n",
       "<style scoped>\n",
       "    .dataframe tbody tr th:only-of-type {\n",
       "        vertical-align: middle;\n",
       "    }\n",
       "\n",
       "    .dataframe tbody tr th {\n",
       "        vertical-align: top;\n",
       "    }\n",
       "\n",
       "    .dataframe thead th {\n",
       "        text-align: right;\n",
       "    }\n",
       "</style>\n",
       "<table border=\"1\" class=\"dataframe\">\n",
       "  <thead>\n",
       "    <tr style=\"text-align: right;\">\n",
       "      <th></th>\n",
       "      <th>Centre_of_Buoyancy</th>\n",
       "      <th>Prismatic_Coefficient</th>\n",
       "      <th>Length/Displacement_Ratio</th>\n",
       "      <th>Beam/Draft_Ratio</th>\n",
       "      <th>Length/Beam_Ratio</th>\n",
       "      <th>Froude_Number</th>\n",
       "      <th>Centre_of_Buoyancy/Froude_Number</th>\n",
       "      <th>Prismatic_Coefficient/Froude_Number</th>\n",
       "    </tr>\n",
       "  </thead>\n",
       "  <tbody>\n",
       "    <tr>\n",
       "      <th>8</th>\n",
       "      <td>-2.3</td>\n",
       "      <td>0.568</td>\n",
       "      <td>4.78</td>\n",
       "      <td>3.99</td>\n",
       "      <td>3.17</td>\n",
       "      <td>0.325</td>\n",
       "      <td>-7.076923</td>\n",
       "      <td>1.747692</td>\n",
       "    </tr>\n",
       "  </tbody>\n",
       "</table>\n",
       "</div>"
      ],
      "text/plain": [
       "   Centre_of_Buoyancy  Prismatic_Coefficient  Length/Displacement_Ratio  \\\n",
       "8                -2.3                  0.568                       4.78   \n",
       "\n",
       "   Beam/Draft_Ratio  Length/Beam_Ratio  Froude_Number  \\\n",
       "8              3.99               3.17          0.325   \n",
       "\n",
       "   Centre_of_Buoyancy/Froude_Number  Prismatic_Coefficient/Froude_Number  \n",
       "8                         -7.076923                             1.747692  "
      ]
     },
     "execution_count": 40,
     "metadata": {},
     "output_type": "execute_result"
    }
   ],
   "source": [
    "yacht_extra_attr.head(1)"
   ]
  },
  {
   "cell_type": "code",
   "execution_count": 41,
   "metadata": {},
   "outputs": [
    {
     "data": {
      "text/plain": [
       "array([[-2.3       ,  0.568     ,  4.78      ,  3.99      ,  3.17      ,\n",
       "         0.325     , -7.07692308,  1.74769231]])"
      ]
     },
     "execution_count": 41,
     "metadata": {},
     "output_type": "execute_result"
    }
   ],
   "source": [
    "yacht_extra_attr.head(1).to_numpy()"
   ]
  },
  {
   "cell_type": "code",
   "execution_count": 42,
   "metadata": {},
   "outputs": [
    {
     "data": {
      "text/plain": [
       "array([[ 0.07434789,  0.12150079, -0.03165378,  0.10957035, -0.16652492,\n",
       "         0.3395227 ,  0.33839318, -0.53747672]])"
      ]
     },
     "execution_count": 42,
     "metadata": {},
     "output_type": "execute_result"
    }
   ],
   "source": [
    "scaler.transform(yacht_extra_attr.head(1))"
   ]
  },
  {
   "cell_type": "code",
   "execution_count": 43,
   "metadata": {},
   "outputs": [
    {
     "data": {
      "text/html": [
       "<div>\n",
       "<style scoped>\n",
       "    .dataframe tbody tr th:only-of-type {\n",
       "        vertical-align: middle;\n",
       "    }\n",
       "\n",
       "    .dataframe tbody tr th {\n",
       "        vertical-align: top;\n",
       "    }\n",
       "\n",
       "    .dataframe thead th {\n",
       "        text-align: right;\n",
       "    }\n",
       "</style>\n",
       "<table border=\"1\" class=\"dataframe\">\n",
       "  <thead>\n",
       "    <tr style=\"text-align: right;\">\n",
       "      <th></th>\n",
       "      <th>Centre_of_Buoyancy</th>\n",
       "      <th>Prismatic_Coefficient</th>\n",
       "      <th>Length/Displacement_Ratio</th>\n",
       "      <th>Beam/Draft_Ratio</th>\n",
       "      <th>Length/Beam_Ratio</th>\n",
       "      <th>Froude_Number</th>\n",
       "      <th>Centre_of_Buoyancy/Froude_Number</th>\n",
       "      <th>Prismatic_Coefficient/Froude_Number</th>\n",
       "    </tr>\n",
       "  </thead>\n",
       "  <tbody>\n",
       "    <tr>\n",
       "      <th>8</th>\n",
       "      <td>0.074348</td>\n",
       "      <td>0.121501</td>\n",
       "      <td>-0.031654</td>\n",
       "      <td>0.10957</td>\n",
       "      <td>-0.166525</td>\n",
       "      <td>0.339523</td>\n",
       "      <td>0.338393</td>\n",
       "      <td>-0.537477</td>\n",
       "    </tr>\n",
       "  </tbody>\n",
       "</table>\n",
       "</div>"
      ],
      "text/plain": [
       "   Centre_of_Buoyancy  Prismatic_Coefficient  Length/Displacement_Ratio  \\\n",
       "8            0.074348               0.121501                  -0.031654   \n",
       "\n",
       "   Beam/Draft_Ratio  Length/Beam_Ratio  Froude_Number  \\\n",
       "8           0.10957          -0.166525       0.339523   \n",
       "\n",
       "   Centre_of_Buoyancy/Froude_Number  Prismatic_Coefficient/Froude_Number  \n",
       "8                          0.338393                            -0.537477  "
      ]
     },
     "execution_count": 43,
     "metadata": {},
     "output_type": "execute_result"
    }
   ],
   "source": [
    "(yacht_extra_attr.head(1) - scaler.mean_) / scaler.scale_"
   ]
  },
  {
   "cell_type": "markdown",
   "metadata": {},
   "source": [
    "## Transformation Pipeline"
   ]
  },
  {
   "cell_type": "code",
   "execution_count": 44,
   "metadata": {},
   "outputs": [],
   "source": [
    "from sklearn.pipeline import Pipeline\n",
    "\n",
    "# create a transformation pipeline for numerical attributes\n",
    "yacht_pipeline = Pipeline([\n",
    "            (\"imputer\", SimpleImputer(strategy=\"median\")), # impute the missing values\n",
    "            (\"attributes_adder\", AttributeAdder()),        # add new attributes\n",
    "            (\"features_scaler\", StandardScaler()),         # scale the data\n",
    "        ])"
   ]
  },
  {
   "cell_type": "code",
   "execution_count": 45,
   "metadata": {},
   "outputs": [
    {
     "data": {
      "text/html": [
       "<div>\n",
       "<style scoped>\n",
       "    .dataframe tbody tr th:only-of-type {\n",
       "        vertical-align: middle;\n",
       "    }\n",
       "\n",
       "    .dataframe tbody tr th {\n",
       "        vertical-align: top;\n",
       "    }\n",
       "\n",
       "    .dataframe thead th {\n",
       "        text-align: right;\n",
       "    }\n",
       "</style>\n",
       "<table border=\"1\" class=\"dataframe\">\n",
       "  <thead>\n",
       "    <tr style=\"text-align: right;\">\n",
       "      <th></th>\n",
       "      <th>Centre_of_Buoyancy</th>\n",
       "      <th>Prismatic_Coefficient</th>\n",
       "      <th>Length/Displacement_Ratio</th>\n",
       "      <th>Beam/Draft_Ratio</th>\n",
       "      <th>Length/Beam_Ratio</th>\n",
       "      <th>Froude_Number</th>\n",
       "    </tr>\n",
       "  </thead>\n",
       "  <tbody>\n",
       "    <tr>\n",
       "      <th>8</th>\n",
       "      <td>-2.3</td>\n",
       "      <td>0.568</td>\n",
       "      <td>4.78</td>\n",
       "      <td>3.99</td>\n",
       "      <td>3.17</td>\n",
       "      <td>0.325</td>\n",
       "    </tr>\n",
       "  </tbody>\n",
       "</table>\n",
       "</div>"
      ],
      "text/plain": [
       "   Centre_of_Buoyancy  Prismatic_Coefficient  Length/Displacement_Ratio  \\\n",
       "8                -2.3                  0.568                       4.78   \n",
       "\n",
       "   Beam/Draft_Ratio  Length/Beam_Ratio  Froude_Number  \n",
       "8              3.99               3.17          0.325  "
      ]
     },
     "execution_count": 45,
     "metadata": {},
     "output_type": "execute_result"
    }
   ],
   "source": [
    "yacht.head(1)"
   ]
  },
  {
   "cell_type": "code",
   "execution_count": 46,
   "metadata": {},
   "outputs": [
    {
     "data": {
      "text/plain": [
       "array([ 0.07434789,  0.12150079, -0.03165378,  0.10957035, -0.16652492,\n",
       "        0.3395227 ,  0.33839318, -0.53747672])"
      ]
     },
     "execution_count": 46,
     "metadata": {},
     "output_type": "execute_result"
    }
   ],
   "source": [
    "yacht_prepared = yacht_pipeline.fit_transform(yacht)\n",
    "\n",
    "yacht_prepared[0]"
   ]
  },
  {
   "cell_type": "markdown",
   "metadata": {},
   "source": [
    "# 5. Select and Train a Model\n",
    "\n",
    "The following ML models are trained:\n",
    "1. Linear Regression,\n",
    "2. Support Vector Machines,\n",
    "3. Decision Tree,\n",
    "4. Random Forest."
   ]
  },
  {
   "cell_type": "markdown",
   "metadata": {},
   "source": [
    "## Linear Regression\n",
    "\n",
    "The training process consists of 4 steps:\n",
    "1. Create an instance of the model class.\n",
    "2. Train the model using the fit() method.\n",
    "3. Make predictions by first passing the data through pipeline transformer.\n",
    "4. Evaluate the model using the Root Mean Squared Error - RMSE (typical performance metric for regression problems)."
   ]
  },
  {
   "cell_type": "code",
   "execution_count": 47,
   "metadata": {},
   "outputs": [],
   "source": [
    "from sklearn.linear_model import LinearRegression\n",
    "from sklearn.metrics import mean_squared_error"
   ]
  },
  {
   "cell_type": "code",
   "execution_count": 48,
   "metadata": {},
   "outputs": [
    {
     "data": {
      "text/plain": [
       "6.18"
      ]
     },
     "execution_count": 48,
     "metadata": {},
     "output_type": "execute_result"
    }
   ],
   "source": [
    "lin_reg = LinearRegression()\n",
    "lin_reg.fit(yacht_prepared, yacht_labels)\n",
    "yacht_predictions = lin_reg.predict(yacht_prepared)\n",
    "\n",
    "lin_mse = mean_squared_error(yacht_labels, yacht_predictions)\n",
    "lin_rmse = np.sqrt(lin_mse)\n",
    "lin_rmse.round(2)"
   ]
  },
  {
   "cell_type": "code",
   "execution_count": 49,
   "metadata": {},
   "outputs": [
    {
     "data": {
      "text/plain": [
       "(11.235284552845549,\n",
       " array([ 1.54778266, -1.27024789,  3.0334259 , -2.95052566, -3.35652325,\n",
       "        31.01994842, -1.20392546, 18.76403509]))"
      ]
     },
     "execution_count": 49,
     "metadata": {},
     "output_type": "execute_result"
    }
   ],
   "source": [
    "lin_reg.intercept_, lin_reg.coef_"
   ]
  },
  {
   "cell_type": "code",
   "execution_count": 50,
   "metadata": {},
   "outputs": [
    {
     "name": "stdout",
     "output_type": "stream",
     "text": [
      "Sample predictions: [11.38 16.44 32.5  25.6  24.94]\n"
     ]
    }
   ],
   "source": [
    "sample_data = yacht_prepared[:5]\n",
    "sample_labels = yacht_labels.iloc[:5]\n",
    "\n",
    "print(\"Sample predictions:\", lin_reg.predict(sample_data).round(2))"
   ]
  },
  {
   "cell_type": "code",
   "execution_count": 51,
   "metadata": {},
   "outputs": [
    {
     "name": "stdout",
     "output_type": "stream",
     "text": [
      "Sample labels: [4.99, 7.16, 32.34, 21.4, 16.31]\n"
     ]
    }
   ],
   "source": [
    "print(\"Sample labels:\", list(sample_labels))"
   ]
  },
  {
   "cell_type": "markdown",
   "metadata": {},
   "source": [
    "This is an example of a model underfitting the training data.\n",
    "\n",
    "The main ways to fix underfitting are:\n",
    "1. select a more powerful model,\n",
    "2. feed the training algorithm with better features,\n",
    "3. reduce the constraints on the model."
   ]
  },
  {
   "cell_type": "markdown",
   "metadata": {},
   "source": [
    "## Support Vector Machines"
   ]
  },
  {
   "cell_type": "code",
   "execution_count": 52,
   "metadata": {},
   "outputs": [
    {
     "data": {
      "text/plain": [
       "SVR(C=100, coef0=1, gamma='auto', kernel='poly')"
      ]
     },
     "execution_count": 52,
     "metadata": {},
     "output_type": "execute_result"
    }
   ],
   "source": [
    "from sklearn.svm import SVR\n",
    "\n",
    "svm_reg = SVR(kernel=\"poly\", C=100, gamma=\"auto\", degree=3, epsilon=0.1, coef0=1)\n",
    "svm_reg.fit(yacht_prepared, yacht_labels)"
   ]
  },
  {
   "cell_type": "code",
   "execution_count": 53,
   "metadata": {},
   "outputs": [
    {
     "data": {
      "text/plain": [
       "0.92"
      ]
     },
     "execution_count": 53,
     "metadata": {},
     "output_type": "execute_result"
    }
   ],
   "source": [
    "svm_yacht_predictions = svm_reg.predict(yacht_prepared)\n",
    "svm_mse = mean_squared_error(yacht_labels, svm_yacht_predictions)\n",
    "svm_rmse = np.sqrt(svm_mse)\n",
    "svm_rmse.round(2)"
   ]
  },
  {
   "cell_type": "code",
   "execution_count": 54,
   "metadata": {},
   "outputs": [
    {
     "name": "stdout",
     "output_type": "stream",
     "text": [
      "Sample predictions: [ 4.33  7.84 32.44 22.35 17.39]\n"
     ]
    }
   ],
   "source": [
    "print(\"Sample predictions:\", svm_reg.predict(sample_data).round(2))"
   ]
  },
  {
   "cell_type": "code",
   "execution_count": 55,
   "metadata": {},
   "outputs": [
    {
     "name": "stdout",
     "output_type": "stream",
     "text": [
      "Sample labels: [4.99, 7.16, 32.34, 21.4, 16.31]\n"
     ]
    }
   ],
   "source": [
    "print(\"Sample labels:\", list(sample_labels))"
   ]
  },
  {
   "cell_type": "markdown",
   "metadata": {},
   "source": [
    "### Cross-Validation\n",
    "\n",
    "You need to use part of the training set for training and part of it for model validation.\n",
    "\n",
    "`cross_val_score` splits the training set into `n` distinct subsets called folds, then trains and evaluates the model `n` times, picking a different fold for evaluation every time and training on the other `n-1` folds."
   ]
  },
  {
   "cell_type": "code",
   "execution_count": 56,
   "metadata": {},
   "outputs": [],
   "source": [
    "from sklearn.model_selection import cross_val_score\n",
    "\n",
    "svm_mse_scores = cross_val_score(svm_reg, yacht_prepared, yacht_labels,\n",
    "                        scoring=\"neg_mean_squared_error\", cv=10)\n",
    "\n",
    "svm_rmse_scores = np.sqrt(-svm_mse_scores)"
   ]
  },
  {
   "cell_type": "markdown",
   "metadata": {},
   "source": [
    "The result is an array containing the `n` evaluation scores."
   ]
  },
  {
   "cell_type": "code",
   "execution_count": 57,
   "metadata": {},
   "outputs": [
    {
     "name": "stdout",
     "output_type": "stream",
     "text": [
      "Scores: [1.08 2.36 1.29 1.46 1.01 1.21 1.49 1.68 1.49 1.19]\n",
      "Mean: 1.43\n",
      "Standard deviation: 0.37\n"
     ]
    }
   ],
   "source": [
    "def display_scores(scores):\n",
    "    print(\"Scores:\", scores.round(2))\n",
    "    print(\"Mean:\", scores.mean().round(2))\n",
    "    print(\"Standard deviation:\", scores.std().round(2))\n",
    "\n",
    "display_scores(svm_rmse_scores)"
   ]
  },
  {
   "cell_type": "markdown",
   "metadata": {},
   "source": [
    "Cross-validation gets not only an estimate of the performance of your model, but also a measure of how precise this estimate is (its standard deviation).\n",
    "\n",
    "However, cross-validation comes at the cost of training the model several times, what is not always possible."
   ]
  },
  {
   "cell_type": "markdown",
   "metadata": {},
   "source": [
    "## Decision Tree"
   ]
  },
  {
   "cell_type": "code",
   "execution_count": 58,
   "metadata": {},
   "outputs": [
    {
     "data": {
      "text/plain": [
       "DecisionTreeRegressor(random_state=42)"
      ]
     },
     "execution_count": 58,
     "metadata": {},
     "output_type": "execute_result"
    }
   ],
   "source": [
    "from sklearn.tree import DecisionTreeRegressor\n",
    "\n",
    "tree_reg = DecisionTreeRegressor(random_state=42)\n",
    "tree_reg.fit(yacht_prepared, yacht_labels)"
   ]
  },
  {
   "cell_type": "code",
   "execution_count": 59,
   "metadata": {},
   "outputs": [
    {
     "data": {
      "text/plain": [
       "0.0"
      ]
     },
     "execution_count": 59,
     "metadata": {},
     "output_type": "execute_result"
    }
   ],
   "source": [
    "tree_yacht_predictions = tree_reg.predict(yacht_prepared)\n",
    "tree_mse = mean_squared_error(yacht_labels, tree_yacht_predictions)\n",
    "tree_rmse = np.sqrt(tree_mse)\n",
    "tree_rmse"
   ]
  },
  {
   "cell_type": "code",
   "execution_count": 60,
   "metadata": {},
   "outputs": [
    {
     "name": "stdout",
     "output_type": "stream",
     "text": [
      "Sample predictions: [ 4.99  7.16 32.34 21.4  16.31]\n"
     ]
    }
   ],
   "source": [
    "print(\"Sample predictions:\", tree_reg.predict(sample_data))"
   ]
  },
  {
   "cell_type": "code",
   "execution_count": 61,
   "metadata": {},
   "outputs": [
    {
     "name": "stdout",
     "output_type": "stream",
     "text": [
      "Sample labels: [4.99, 7.16, 32.34, 21.4, 16.31]\n"
     ]
    }
   ],
   "source": [
    "print(\"Sample labels:\", list(sample_labels))"
   ]
  },
  {
   "cell_type": "markdown",
   "metadata": {},
   "source": [
    "This is an example of a model overfitting the training data.\n",
    "\n",
    "Possible solutions to overfitting are:\n",
    "1. get more data,\n",
    "2. select a simpler algorithm, \n",
    "3. reduce the number of features, \n",
    "4. regularize the model,\n",
    "5. reduce the noise in the training set."
   ]
  },
  {
   "cell_type": "code",
   "execution_count": 62,
   "metadata": {},
   "outputs": [],
   "source": [
    "tree_mse_scores = cross_val_score(tree_reg, yacht_prepared, yacht_labels,\n",
    "                        scoring=\"neg_mean_squared_error\", cv=10)\n",
    "\n",
    "tree_rmse_scores = np.sqrt(-tree_mse_scores)"
   ]
  },
  {
   "cell_type": "code",
   "execution_count": 63,
   "metadata": {},
   "outputs": [
    {
     "name": "stdout",
     "output_type": "stream",
     "text": [
      "Scores: [0.67 2.44 1.28 1.67 0.38 1.06 1.01 1.29 2.36 1.16]\n",
      "Mean: 1.33\n",
      "Standard deviation: 0.63\n"
     ]
    }
   ],
   "source": [
    "display_scores(tree_rmse_scores)"
   ]
  },
  {
   "cell_type": "markdown",
   "metadata": {},
   "source": [
    "## Random Forest\n",
    "\n",
    "A random forest is a meta estimator that fits a number of classifying decision trees on various sub-samples of the dataset and uses averaging to improve the predictive accuracy and control over-fitting.\n",
    "\n",
    "n_estimators = the number of trees in the forest."
   ]
  },
  {
   "cell_type": "code",
   "execution_count": 64,
   "metadata": {},
   "outputs": [
    {
     "data": {
      "text/plain": [
       "RandomForestRegressor(random_state=42)"
      ]
     },
     "execution_count": 64,
     "metadata": {},
     "output_type": "execute_result"
    }
   ],
   "source": [
    "from sklearn.ensemble import RandomForestRegressor\n",
    "\n",
    "forest_reg = RandomForestRegressor(n_estimators=100, random_state=42)\n",
    "forest_reg.fit(yacht_prepared, yacht_labels)"
   ]
  },
  {
   "cell_type": "code",
   "execution_count": 65,
   "metadata": {},
   "outputs": [
    {
     "data": {
      "text/plain": [
       "0.44"
      ]
     },
     "execution_count": 65,
     "metadata": {},
     "output_type": "execute_result"
    }
   ],
   "source": [
    "forest_yacht_predictions = forest_reg.predict(yacht_prepared)\n",
    "forest_mse = mean_squared_error(yacht_labels, forest_yacht_predictions)\n",
    "forest_rmse = np.sqrt(forest_mse)\n",
    "forest_rmse.round(2)"
   ]
  },
  {
   "cell_type": "code",
   "execution_count": 66,
   "metadata": {},
   "outputs": [
    {
     "name": "stdout",
     "output_type": "stream",
     "text": [
      "Sample predictions: [ 5.15  7.43 33.1  21.23 15.51]\n"
     ]
    }
   ],
   "source": [
    "print(\"Sample predictions:\", forest_reg.predict(sample_data).round(2))"
   ]
  },
  {
   "cell_type": "code",
   "execution_count": 67,
   "metadata": {},
   "outputs": [
    {
     "name": "stdout",
     "output_type": "stream",
     "text": [
      "Sample labels: [4.99, 7.16, 32.34, 21.4, 16.31]\n"
     ]
    }
   ],
   "source": [
    "print(\"Sample labels:\", list(sample_labels))"
   ]
  },
  {
   "cell_type": "code",
   "execution_count": 68,
   "metadata": {},
   "outputs": [
    {
     "name": "stdout",
     "output_type": "stream",
     "text": [
      "Scores: [0.72 1.82 1.35 0.88 0.38 1.02 0.7  1.14 1.8  0.88]\n",
      "Mean: 1.07\n",
      "Standard deviation: 0.45\n"
     ]
    }
   ],
   "source": [
    "forest_mse_scores = cross_val_score(forest_reg, yacht_prepared, yacht_labels,\n",
    "                        scoring=\"neg_mean_squared_error\", cv=10)\n",
    "\n",
    "forest_rmse_scores = np.sqrt(-forest_mse_scores)\n",
    "display_scores(forest_rmse_scores)"
   ]
  },
  {
   "cell_type": "markdown",
   "metadata": {},
   "source": [
    "**The score on the training set is still lower than on the validation sets, meaning that the model is still overfitting the training set.**"
   ]
  },
  {
   "cell_type": "markdown",
   "metadata": {},
   "source": [
    "# 6. Model Fine-Tuning"
   ]
  },
  {
   "cell_type": "markdown",
   "metadata": {},
   "source": [
    "## Grid Search\n",
    "\n",
    "`GridSearchCV` uses cross-validation to evaluate all the possible combinations of given hyperparameters values."
   ]
  },
  {
   "cell_type": "code",
   "execution_count": 69,
   "metadata": {},
   "outputs": [
    {
     "data": {
      "text/plain": [
       "GridSearchCV(cv=10, estimator=RandomForestRegressor(random_state=42),\n",
       "             param_grid=[{'max_features': [4, 6, 8],\n",
       "                          'n_estimators': [100, 250, 500]}],\n",
       "             return_train_score=True, scoring='neg_mean_squared_error')"
      ]
     },
     "execution_count": 69,
     "metadata": {},
     "output_type": "execute_result"
    }
   ],
   "source": [
    "from sklearn.model_selection import GridSearchCV\n",
    "\n",
    "param_grid = [\n",
    "    {'n_estimators': [100, 250, 500], 'max_features': [4, 6, 8]},\n",
    "]\n",
    "\n",
    "forest_reg = RandomForestRegressor(random_state=42)\n",
    "\n",
    "grid_search = GridSearchCV(forest_reg, param_grid, cv=10,\n",
    "                           scoring='neg_mean_squared_error',\n",
    "                           return_train_score=True)\n",
    "                           \n",
    "grid_search.fit(yacht_prepared, yacht_labels)                          "
   ]
  },
  {
   "cell_type": "code",
   "execution_count": 70,
   "metadata": {},
   "outputs": [
    {
     "name": "stdout",
     "output_type": "stream",
     "text": [
      "The best hyperparameter combination found: {'max_features': 6, 'n_estimators': 500}\n"
     ]
    },
    {
     "data": {
      "text/plain": [
       "RandomForestRegressor(max_features=6, n_estimators=500, random_state=42)"
      ]
     },
     "execution_count": 70,
     "metadata": {},
     "output_type": "execute_result"
    }
   ],
   "source": [
    "print('The best hyperparameter combination found:', grid_search.best_params_)\n",
    "grid_search.best_estimator_"
   ]
  },
  {
   "cell_type": "code",
   "execution_count": 71,
   "metadata": {},
   "outputs": [
    {
     "name": "stdout",
     "output_type": "stream",
     "text": [
      "1.22 {'max_features': 4, 'n_estimators': 100}\n",
      "1.17 {'max_features': 4, 'n_estimators': 250}\n",
      "1.18 {'max_features': 4, 'n_estimators': 500}\n",
      "1.16 {'max_features': 6, 'n_estimators': 100}\n",
      "1.13 {'max_features': 6, 'n_estimators': 250}\n",
      "1.11 {'max_features': 6, 'n_estimators': 500}\n",
      "1.16 {'max_features': 8, 'n_estimators': 100}\n",
      "1.15 {'max_features': 8, 'n_estimators': 250}\n",
      "1.15 {'max_features': 8, 'n_estimators': 500}\n"
     ]
    }
   ],
   "source": [
    "grid_search_score = grid_search.cv_results_\n",
    "for mean_score, params in zip(grid_search_score[\"mean_test_score\"], grid_search_score[\"params\"]):\n",
    "    print(np.sqrt(-mean_score).round(2), params)"
   ]
  },
  {
   "cell_type": "code",
   "execution_count": 72,
   "metadata": {},
   "outputs": [
    {
     "data": {
      "text/plain": [
       "{'max_features': 6, 'n_estimators': 500}"
      ]
     },
     "execution_count": 72,
     "metadata": {},
     "output_type": "execute_result"
    }
   ],
   "source": [
    "grid_search.best_params_"
   ]
  },
  {
   "cell_type": "markdown",
   "metadata": {},
   "source": [
    "## Randomized Search\n",
    "\n",
    "`RandomizedSearchCV`, instead of trying out all possible combinations, evaluates a given number of random combinations by selecting a random value for each hyperparameter at every iteration."
   ]
  },
  {
   "cell_type": "code",
   "execution_count": 73,
   "metadata": {},
   "outputs": [
    {
     "data": {
      "text/plain": [
       "RandomizedSearchCV(cv=10, estimator=RandomForestRegressor(random_state=42),\n",
       "                   param_distributions={'max_features': <scipy.stats._distn_infrastructure.rv_frozen object at 0x000001E277411610>,\n",
       "                                        'n_estimators': <scipy.stats._distn_infrastructure.rv_frozen object at 0x000001E2774115E0>},\n",
       "                   random_state=42, scoring='neg_mean_squared_error')"
      ]
     },
     "execution_count": 73,
     "metadata": {},
     "output_type": "execute_result"
    }
   ],
   "source": [
    "from sklearn.model_selection import RandomizedSearchCV\n",
    "from scipy.stats import randint\n",
    "\n",
    "param_distributions = {\n",
    "    'n_estimators': randint(low=50, high=550),\n",
    "    'max_features': randint(low=4, high=8),\n",
    "}\n",
    "\n",
    "forest_reg = RandomForestRegressor(random_state=42)\n",
    "rnd_search = RandomizedSearchCV(forest_reg, param_distributions=param_distributions,\n",
    "                                n_iter=10, cv=10, scoring='neg_mean_squared_error', random_state=42)\n",
    "\n",
    "rnd_search.fit(yacht_prepared, yacht_labels)"
   ]
  },
  {
   "cell_type": "code",
   "execution_count": 74,
   "metadata": {},
   "outputs": [
    {
     "name": "stdout",
     "output_type": "stream",
     "text": [
      "1.1 {'max_features': 6, 'n_estimators': 485}\n",
      "1.17 {'max_features': 4, 'n_estimators': 320}\n",
      "1.16 {'max_features': 6, 'n_estimators': 121}\n",
      "1.21 {'max_features': 4, 'n_estimators': 70}\n",
      "1.15 {'max_features': 6, 'n_estimators': 171}\n",
      "1.12 {'max_features': 6, 'n_estimators': 264}\n",
      "1.1 {'max_features': 6, 'n_estimators': 508}\n",
      "1.12 {'max_features': 7, 'n_estimators': 422}\n",
      "1.12 {'max_features': 7, 'n_estimators': 409}\n",
      "1.11 {'max_features': 7, 'n_estimators': 180}\n"
     ]
    }
   ],
   "source": [
    "rnd_search_score = rnd_search.cv_results_\n",
    "for mean_score, params in zip(rnd_search_score[\"mean_test_score\"], rnd_search_score[\"params\"]):\n",
    "    print(np.sqrt(-mean_score).round(2), params)"
   ]
  },
  {
   "cell_type": "code",
   "execution_count": 75,
   "metadata": {},
   "outputs": [
    {
     "data": {
      "text/plain": [
       "{'max_features': 6, 'n_estimators': 508}"
      ]
     },
     "execution_count": 75,
     "metadata": {},
     "output_type": "execute_result"
    }
   ],
   "source": [
    "rnd_search.best_params_"
   ]
  },
  {
   "cell_type": "markdown",
   "metadata": {},
   "source": [
    "## Feature Importances"
   ]
  },
  {
   "cell_type": "code",
   "execution_count": 76,
   "metadata": {},
   "outputs": [
    {
     "data": {
      "text/plain": [
       "array([0.001, 0.003, 0.001, 0.002, 0.001, 0.676, 0.014, 0.302])"
      ]
     },
     "execution_count": 76,
     "metadata": {},
     "output_type": "execute_result"
    }
   ],
   "source": [
    "# gain good insights on the problem by ispecting the best model\n",
    "rnd_search.best_estimator_.feature_importances_.round(3)"
   ]
  },
  {
   "cell_type": "code",
   "execution_count": 77,
   "metadata": {},
   "outputs": [
    {
     "data": {
      "image/png": "[encoded data removed]",
      "text/plain": [
       "<Figure size 432x288 with 1 Axes>"
      ]
     },
     "metadata": {
      "needs_background": "light"
     },
     "output_type": "display_data"
    }
   ],
   "source": [
    "# plot the relative importance of each attribute for making accurate predictions\n",
    "feature_importances = pd.Series(rnd_search.best_estimator_.feature_importances_, index=yacht_extra_attr.columns)\n",
    "feature_importances.nlargest(8).plot(kind='barh')\n",
    "plt.show()"
   ]
  },
  {
   "cell_type": "markdown",
   "metadata": {},
   "source": [
    "Now, it is necessary to look at the specific errors that the system makes, try to understand why it makes them and what could fix the problem.\n",
    "\n",
    "For example:\n",
    "1. add extra features,\n",
    "2. remove uninformative features,\n",
    "3. clean up outliers."
   ]
  },
  {
   "cell_type": "markdown",
   "metadata": {},
   "source": [
    "# 7. Test Set Evaluation"
   ]
  },
  {
   "cell_type": "code",
   "execution_count": 78,
   "metadata": {},
   "outputs": [],
   "source": [
    "import warnings\n",
    "warnings.filterwarnings('ignore')"
   ]
  },
  {
   "cell_type": "code",
   "execution_count": 79,
   "metadata": {},
   "outputs": [
    {
     "data": {
      "text/plain": [
       "0.388"
      ]
     },
     "execution_count": 79,
     "metadata": {},
     "output_type": "execute_result"
    }
   ],
   "source": [
    "final_model = rnd_search.best_estimator_\n",
    "\n",
    "X_test = strat_test_set.drop(\"Residuary_Resistance\", axis=1)\n",
    "y_test = strat_test_set[\"Residuary_Resistance\"].copy()\n",
    "\n",
    "# call transform(), instead of fit_transform(), to not fit the test set \n",
    "X_test_tr = yacht_pipeline.transform(X_test.values)\n",
    "final_predictions = final_model.predict(X_test_tr)\n",
    "\n",
    "final_mse = mean_squared_error(y_test, final_predictions)\n",
    "final_rmse = np.sqrt(final_mse)\n",
    "final_rmse.round(4)"
   ]
  },
  {
   "cell_type": "code",
   "execution_count": 80,
   "metadata": {},
   "outputs": [],
   "source": [
    "error_percentage = (abs(y_test - final_predictions) * 100 )/y_test"
   ]
  },
  {
   "cell_type": "code",
   "execution_count": 81,
   "metadata": {},
   "outputs": [],
   "source": [
    "error_table = np.block([[final_predictions.round(2)], [y_test], [error_percentage.round(2)]]).T"
   ]
  },
  {
   "cell_type": "code",
   "execution_count": 82,
   "metadata": {},
   "outputs": [
    {
     "data": {
      "text/html": [
       "<div>\n",
       "<style scoped>\n",
       "    .dataframe tbody tr th:only-of-type {\n",
       "        vertical-align: middle;\n",
       "    }\n",
       "\n",
       "    .dataframe tbody tr th {\n",
       "        vertical-align: top;\n",
       "    }\n",
       "\n",
       "    .dataframe thead th {\n",
       "        text-align: right;\n",
       "    }\n",
       "</style>\n",
       "<table border=\"1\" class=\"dataframe\">\n",
       "  <thead>\n",
       "    <tr style=\"text-align: right;\">\n",
       "      <th></th>\n",
       "      <th>Predicted values</th>\n",
       "      <th>Correct values</th>\n",
       "      <th>Error (%)</th>\n",
       "    </tr>\n",
       "  </thead>\n",
       "  <tbody>\n",
       "    <tr>\n",
       "      <th>0</th>\n",
       "      <td>0.40</td>\n",
       "      <td>0.40</td>\n",
       "      <td>0.39</td>\n",
       "    </tr>\n",
       "    <tr>\n",
       "      <th>1</th>\n",
       "      <td>4.60</td>\n",
       "      <td>3.87</td>\n",
       "      <td>18.83</td>\n",
       "    </tr>\n",
       "    <tr>\n",
       "      <th>2</th>\n",
       "      <td>0.11</td>\n",
       "      <td>0.05</td>\n",
       "      <td>129.37</td>\n",
       "    </tr>\n",
       "    <tr>\n",
       "      <th>3</th>\n",
       "      <td>12.74</td>\n",
       "      <td>12.27</td>\n",
       "      <td>3.82</td>\n",
       "    </tr>\n",
       "    <tr>\n",
       "      <th>4</th>\n",
       "      <td>0.84</td>\n",
       "      <td>0.79</td>\n",
       "      <td>6.72</td>\n",
       "    </tr>\n",
       "    <tr>\n",
       "      <th>5</th>\n",
       "      <td>12.68</td>\n",
       "      <td>11.56</td>\n",
       "      <td>9.70</td>\n",
       "    </tr>\n",
       "    <tr>\n",
       "      <th>6</th>\n",
       "      <td>0.86</td>\n",
       "      <td>0.78</td>\n",
       "      <td>9.81</td>\n",
       "    </tr>\n",
       "    <tr>\n",
       "      <th>7</th>\n",
       "      <td>2.48</td>\n",
       "      <td>2.28</td>\n",
       "      <td>8.75</td>\n",
       "    </tr>\n",
       "    <tr>\n",
       "      <th>8</th>\n",
       "      <td>0.79</td>\n",
       "      <td>0.93</td>\n",
       "      <td>14.69</td>\n",
       "    </tr>\n",
       "    <tr>\n",
       "      <th>9</th>\n",
       "      <td>3.49</td>\n",
       "      <td>3.43</td>\n",
       "      <td>1.68</td>\n",
       "    </tr>\n",
       "    <tr>\n",
       "      <th>10</th>\n",
       "      <td>1.86</td>\n",
       "      <td>1.76</td>\n",
       "      <td>5.76</td>\n",
       "    </tr>\n",
       "    <tr>\n",
       "      <th>11</th>\n",
       "      <td>1.87</td>\n",
       "      <td>1.97</td>\n",
       "      <td>5.18</td>\n",
       "    </tr>\n",
       "    <tr>\n",
       "      <th>12</th>\n",
       "      <td>2.80</td>\n",
       "      <td>2.61</td>\n",
       "      <td>7.21</td>\n",
       "    </tr>\n",
       "    <tr>\n",
       "      <th>13</th>\n",
       "      <td>9.14</td>\n",
       "      <td>8.76</td>\n",
       "      <td>4.35</td>\n",
       "    </tr>\n",
       "    <tr>\n",
       "      <th>14</th>\n",
       "      <td>0.54</td>\n",
       "      <td>0.70</td>\n",
       "      <td>23.05</td>\n",
       "    </tr>\n",
       "    <tr>\n",
       "      <th>15</th>\n",
       "      <td>4.05</td>\n",
       "      <td>3.76</td>\n",
       "      <td>7.68</td>\n",
       "    </tr>\n",
       "    <tr>\n",
       "      <th>16</th>\n",
       "      <td>0.80</td>\n",
       "      <td>1.07</td>\n",
       "      <td>24.82</td>\n",
       "    </tr>\n",
       "    <tr>\n",
       "      <th>17</th>\n",
       "      <td>3.88</td>\n",
       "      <td>3.70</td>\n",
       "      <td>4.99</td>\n",
       "    </tr>\n",
       "    <tr>\n",
       "      <th>18</th>\n",
       "      <td>9.12</td>\n",
       "      <td>9.45</td>\n",
       "      <td>3.50</td>\n",
       "    </tr>\n",
       "    <tr>\n",
       "      <th>19</th>\n",
       "      <td>5.32</td>\n",
       "      <td>5.82</td>\n",
       "      <td>8.55</td>\n",
       "    </tr>\n",
       "    <tr>\n",
       "      <th>20</th>\n",
       "      <td>51.77</td>\n",
       "      <td>51.80</td>\n",
       "      <td>0.06</td>\n",
       "    </tr>\n",
       "    <tr>\n",
       "      <th>21</th>\n",
       "      <td>21.08</td>\n",
       "      <td>21.02</td>\n",
       "      <td>0.30</td>\n",
       "    </tr>\n",
       "    <tr>\n",
       "      <th>22</th>\n",
       "      <td>0.11</td>\n",
       "      <td>0.11</td>\n",
       "      <td>3.19</td>\n",
       "    </tr>\n",
       "    <tr>\n",
       "      <th>23</th>\n",
       "      <td>0.27</td>\n",
       "      <td>0.24</td>\n",
       "      <td>10.71</td>\n",
       "    </tr>\n",
       "    <tr>\n",
       "      <th>24</th>\n",
       "      <td>1.32</td>\n",
       "      <td>1.31</td>\n",
       "      <td>0.44</td>\n",
       "    </tr>\n",
       "    <tr>\n",
       "      <th>25</th>\n",
       "      <td>9.03</td>\n",
       "      <td>9.07</td>\n",
       "      <td>0.48</td>\n",
       "    </tr>\n",
       "    <tr>\n",
       "      <th>26</th>\n",
       "      <td>0.81</td>\n",
       "      <td>0.70</td>\n",
       "      <td>15.98</td>\n",
       "    </tr>\n",
       "    <tr>\n",
       "      <th>27</th>\n",
       "      <td>12.68</td>\n",
       "      <td>12.86</td>\n",
       "      <td>1.41</td>\n",
       "    </tr>\n",
       "    <tr>\n",
       "      <th>28</th>\n",
       "      <td>0.25</td>\n",
       "      <td>0.24</td>\n",
       "      <td>3.63</td>\n",
       "    </tr>\n",
       "    <tr>\n",
       "      <th>29</th>\n",
       "      <td>1.31</td>\n",
       "      <td>1.37</td>\n",
       "      <td>4.36</td>\n",
       "    </tr>\n",
       "    <tr>\n",
       "      <th>30</th>\n",
       "      <td>4.23</td>\n",
       "      <td>3.76</td>\n",
       "      <td>12.44</td>\n",
       "    </tr>\n",
       "    <tr>\n",
       "      <th>31</th>\n",
       "      <td>1.12</td>\n",
       "      <td>1.01</td>\n",
       "      <td>11.18</td>\n",
       "    </tr>\n",
       "    <tr>\n",
       "      <th>32</th>\n",
       "      <td>7.94</td>\n",
       "      <td>7.74</td>\n",
       "      <td>2.54</td>\n",
       "    </tr>\n",
       "    <tr>\n",
       "      <th>33</th>\n",
       "      <td>0.49</td>\n",
       "      <td>0.47</td>\n",
       "      <td>4.03</td>\n",
       "    </tr>\n",
       "    <tr>\n",
       "      <th>34</th>\n",
       "      <td>24.46</td>\n",
       "      <td>23.96</td>\n",
       "      <td>2.09</td>\n",
       "    </tr>\n",
       "    <tr>\n",
       "      <th>35</th>\n",
       "      <td>3.52</td>\n",
       "      <td>3.09</td>\n",
       "      <td>13.96</td>\n",
       "    </tr>\n",
       "    <tr>\n",
       "      <th>36</th>\n",
       "      <td>2.95</td>\n",
       "      <td>2.49</td>\n",
       "      <td>18.48</td>\n",
       "    </tr>\n",
       "    <tr>\n",
       "      <th>37</th>\n",
       "      <td>1.98</td>\n",
       "      <td>1.99</td>\n",
       "      <td>0.69</td>\n",
       "    </tr>\n",
       "    <tr>\n",
       "      <th>38</th>\n",
       "      <td>20.03</td>\n",
       "      <td>20.14</td>\n",
       "      <td>0.55</td>\n",
       "    </tr>\n",
       "    <tr>\n",
       "      <th>39</th>\n",
       "      <td>1.22</td>\n",
       "      <td>1.18</td>\n",
       "      <td>3.17</td>\n",
       "    </tr>\n",
       "    <tr>\n",
       "      <th>40</th>\n",
       "      <td>12.65</td>\n",
       "      <td>11.93</td>\n",
       "      <td>6.01</td>\n",
       "    </tr>\n",
       "    <tr>\n",
       "      <th>41</th>\n",
       "      <td>22.85</td>\n",
       "      <td>24.13</td>\n",
       "      <td>5.30</td>\n",
       "    </tr>\n",
       "    <tr>\n",
       "      <th>42</th>\n",
       "      <td>3.52</td>\n",
       "      <td>2.98</td>\n",
       "      <td>17.97</td>\n",
       "    </tr>\n",
       "    <tr>\n",
       "      <th>43</th>\n",
       "      <td>31.28</td>\n",
       "      <td>31.77</td>\n",
       "      <td>1.53</td>\n",
       "    </tr>\n",
       "    <tr>\n",
       "      <th>44</th>\n",
       "      <td>2.94</td>\n",
       "      <td>2.94</td>\n",
       "      <td>0.15</td>\n",
       "    </tr>\n",
       "    <tr>\n",
       "      <th>45</th>\n",
       "      <td>20.98</td>\n",
       "      <td>20.11</td>\n",
       "      <td>4.32</td>\n",
       "    </tr>\n",
       "    <tr>\n",
       "      <th>46</th>\n",
       "      <td>0.24</td>\n",
       "      <td>0.35</td>\n",
       "      <td>32.02</td>\n",
       "    </tr>\n",
       "    <tr>\n",
       "      <th>47</th>\n",
       "      <td>14.22</td>\n",
       "      <td>15.25</td>\n",
       "      <td>6.72</td>\n",
       "    </tr>\n",
       "    <tr>\n",
       "      <th>48</th>\n",
       "      <td>2.70</td>\n",
       "      <td>2.83</td>\n",
       "      <td>4.66</td>\n",
       "    </tr>\n",
       "    <tr>\n",
       "      <th>49</th>\n",
       "      <td>0.53</td>\n",
       "      <td>0.46</td>\n",
       "      <td>16.30</td>\n",
       "    </tr>\n",
       "    <tr>\n",
       "      <th>50</th>\n",
       "      <td>1.88</td>\n",
       "      <td>1.98</td>\n",
       "      <td>5.09</td>\n",
       "    </tr>\n",
       "    <tr>\n",
       "      <th>51</th>\n",
       "      <td>0.18</td>\n",
       "      <td>0.18</td>\n",
       "      <td>1.53</td>\n",
       "    </tr>\n",
       "    <tr>\n",
       "      <th>52</th>\n",
       "      <td>13.78</td>\n",
       "      <td>13.73</td>\n",
       "      <td>0.35</td>\n",
       "    </tr>\n",
       "    <tr>\n",
       "      <th>53</th>\n",
       "      <td>33.60</td>\n",
       "      <td>33.14</td>\n",
       "      <td>1.39</td>\n",
       "    </tr>\n",
       "    <tr>\n",
       "      <th>54</th>\n",
       "      <td>5.16</td>\n",
       "      <td>5.19</td>\n",
       "      <td>0.59</td>\n",
       "    </tr>\n",
       "    <tr>\n",
       "      <th>55</th>\n",
       "      <td>0.76</td>\n",
       "      <td>0.63</td>\n",
       "      <td>21.13</td>\n",
       "    </tr>\n",
       "    <tr>\n",
       "      <th>56</th>\n",
       "      <td>1.23</td>\n",
       "      <td>1.37</td>\n",
       "      <td>9.93</td>\n",
       "    </tr>\n",
       "    <tr>\n",
       "      <th>57</th>\n",
       "      <td>0.53</td>\n",
       "      <td>0.50</td>\n",
       "      <td>6.75</td>\n",
       "    </tr>\n",
       "    <tr>\n",
       "      <th>58</th>\n",
       "      <td>0.81</td>\n",
       "      <td>0.75</td>\n",
       "      <td>8.06</td>\n",
       "    </tr>\n",
       "    <tr>\n",
       "      <th>59</th>\n",
       "      <td>2.44</td>\n",
       "      <td>2.05</td>\n",
       "      <td>19.18</td>\n",
       "    </tr>\n",
       "    <tr>\n",
       "      <th>60</th>\n",
       "      <td>0.09</td>\n",
       "      <td>0.04</td>\n",
       "      <td>112.94</td>\n",
       "    </tr>\n",
       "    <tr>\n",
       "      <th>61</th>\n",
       "      <td>56.61</td>\n",
       "      <td>55.87</td>\n",
       "      <td>1.33</td>\n",
       "    </tr>\n",
       "  </tbody>\n",
       "</table>\n",
       "</div>"
      ],
      "text/plain": [
       "    Predicted values  Correct values  Error (%)\n",
       "0               0.40            0.40       0.39\n",
       "1               4.60            3.87      18.83\n",
       "2               0.11            0.05     129.37\n",
       "3              12.74           12.27       3.82\n",
       "4               0.84            0.79       6.72\n",
       "5              12.68           11.56       9.70\n",
       "6               0.86            0.78       9.81\n",
       "7               2.48            2.28       8.75\n",
       "8               0.79            0.93      14.69\n",
       "9               3.49            3.43       1.68\n",
       "10              1.86            1.76       5.76\n",
       "11              1.87            1.97       5.18\n",
       "12              2.80            2.61       7.21\n",
       "13              9.14            8.76       4.35\n",
       "14              0.54            0.70      23.05\n",
       "15              4.05            3.76       7.68\n",
       "16              0.80            1.07      24.82\n",
       "17              3.88            3.70       4.99\n",
       "18              9.12            9.45       3.50\n",
       "19              5.32            5.82       8.55\n",
       "20             51.77           51.80       0.06\n",
       "21             21.08           21.02       0.30\n",
       "22              0.11            0.11       3.19\n",
       "23              0.27            0.24      10.71\n",
       "24              1.32            1.31       0.44\n",
       "25              9.03            9.07       0.48\n",
       "26              0.81            0.70      15.98\n",
       "27             12.68           12.86       1.41\n",
       "28              0.25            0.24       3.63\n",
       "29              1.31            1.37       4.36\n",
       "30              4.23            3.76      12.44\n",
       "31              1.12            1.01      11.18\n",
       "32              7.94            7.74       2.54\n",
       "33              0.49            0.47       4.03\n",
       "34             24.46           23.96       2.09\n",
       "35              3.52            3.09      13.96\n",
       "36              2.95            2.49      18.48\n",
       "37              1.98            1.99       0.69\n",
       "38             20.03           20.14       0.55\n",
       "39              1.22            1.18       3.17\n",
       "40             12.65           11.93       6.01\n",
       "41             22.85           24.13       5.30\n",
       "42              3.52            2.98      17.97\n",
       "43             31.28           31.77       1.53\n",
       "44              2.94            2.94       0.15\n",
       "45             20.98           20.11       4.32\n",
       "46              0.24            0.35      32.02\n",
       "47             14.22           15.25       6.72\n",
       "48              2.70            2.83       4.66\n",
       "49              0.53            0.46      16.30\n",
       "50              1.88            1.98       5.09\n",
       "51              0.18            0.18       1.53\n",
       "52             13.78           13.73       0.35\n",
       "53             33.60           33.14       1.39\n",
       "54              5.16            5.19       0.59\n",
       "55              0.76            0.63      21.13\n",
       "56              1.23            1.37       9.93\n",
       "57              0.53            0.50       6.75\n",
       "58              0.81            0.75       8.06\n",
       "59              2.44            2.05      19.18\n",
       "60              0.09            0.04     112.94\n",
       "61             56.61           55.87       1.33"
      ]
     },
     "execution_count": 82,
     "metadata": {},
     "output_type": "execute_result"
    }
   ],
   "source": [
    "pd.set_option('display.max_rows', None)\n",
    "pd.DataFrame(error_table, columns=[\"Predicted values\", \"Correct values\", \"Error (%)\"])"
   ]
  },
  {
   "cell_type": "code",
   "execution_count": 83,
   "metadata": {},
   "outputs": [
    {
     "data": {
      "text/plain": [
       "<AxesSubplot:>"
      ]
     },
     "execution_count": 83,
     "metadata": {},
     "output_type": "execute_result"
    },
    {
     "data": {
      "image/png": "[encoded data removed]",
      "text/plain": [
       "<Figure size 432x288 with 1 Axes>"
      ]
     },
     "metadata": {
      "needs_background": "light"
     },
     "output_type": "display_data"
    }
   ],
   "source": [
    "error_percentage.hist(bins=50)"
   ]
  },
  {
   "cell_type": "code",
   "execution_count": 84,
   "metadata": {},
   "outputs": [
    {
     "name": "stdout",
     "output_type": "stream",
     "text": [
      "The mean error: 11.16 %\n"
     ]
    }
   ],
   "source": [
    "# the generalization error that the model makes\n",
    "print(\"The mean error:\", error_percentage.mean().round(2), \"%\")"
   ]
  },
  {
   "cell_type": "markdown",
   "metadata": {},
   "source": [
    "# 8. Deploy the model\n",
    "\n",
    "1. Save the model,\n",
    "2. Develop a web service that enables using of the model in practice,\n",
    "3. Deploy the application on the cloud."
   ]
  },
  {
   "cell_type": "markdown",
   "metadata": {},
   "source": [
    "## Save the model"
   ]
  },
  {
   "cell_type": "code",
   "execution_count": 85,
   "metadata": {},
   "outputs": [],
   "source": [
    "import pickle\n",
    "\n",
    "# open a file and dump the model to that file\n",
    "with open(\"model.bin\", 'wb') as f_out:\n",
    "    pickle.dump(final_model, f_out)\n",
    "    f_out.close()"
   ]
  }
 ],
 "metadata": {
  "kernelspec": {
   "display_name": "Python 3.8.13 ('ml-yrp')",
   "language": "python",
   "name": "python3"
  },
  "language_info": {
   "codemirror_mode": {
    "name": "ipython",
    "version": 3
   },
   "file_extension": ".py",
   "mimetype": "text/x-python",
   "name": "python",
   "nbconvert_exporter": "python",
   "pygments_lexer": "ipython3",
   "version": "3.8.13 | packaged by conda-forge | (default, Mar 25 2022, 05:59:45) [MSC v.1929 64 bit (AMD64)]"
  },
  "orig_nbformat": 4,
  "vscode": {
   "interpreter": {
    "hash": "4be6c2bb49d24515f1650ecf25b3e93e0cda5b5fbe8c944f724117236b6fd181"
   }
  }
 },
 "nbformat": 4,
 "nbformat_minor": 2
}
